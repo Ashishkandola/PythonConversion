{
 "cells": [
  {
   "cell_type": "markdown",
   "id": "203bd413",
   "metadata": {},
   "source": [
    "# ASSINMENT QUESTION"
   ]
  },
  {
   "cell_type": "markdown",
   "id": "6a91e378",
   "metadata": {},
   "source": [
    "# PYTHON TYPE CONVERSION"
   ]
  },
  {
   "cell_type": "markdown",
   "id": "94308b14",
   "metadata": {},
   "source": [
    "Q1  Convert a integer to a floatig-point Number."
   ]
  },
  {
   "cell_type": "code",
   "execution_count": 3,
   "id": "8446f310",
   "metadata": {},
   "outputs": [
    {
     "name": "stdout",
     "output_type": "stream",
     "text": [
      "12.0\n"
     ]
    }
   ],
   "source": [
    "a = float(12)\n",
    "print(a)"
   ]
  },
  {
   "cell_type": "markdown",
   "id": "24bddbd2",
   "metadata": {},
   "source": [
    "Q2 Convert a float to a integer."
   ]
  },
  {
   "cell_type": "code",
   "execution_count": 4,
   "id": "e6e04e0d",
   "metadata": {},
   "outputs": [
    {
     "name": "stdout",
     "output_type": "stream",
     "text": [
      "12\n"
     ]
    }
   ],
   "source": [
    "b = int(12.65)\n",
    "print(b)"
   ]
  },
  {
   "cell_type": "markdown",
   "id": "7ab21f58",
   "metadata": {},
   "source": [
    "Q3 Convert a integer to a String."
   ]
  },
  {
   "cell_type": "code",
   "execution_count": 5,
   "id": "88e43d92",
   "metadata": {},
   "outputs": [
    {
     "name": "stdout",
     "output_type": "stream",
     "text": [
      "12\n"
     ]
    }
   ],
   "source": [
    "c = str(12)\n",
    "print(c)"
   ]
  },
  {
   "cell_type": "markdown",
   "id": "4ec1c4a0",
   "metadata": {},
   "source": [
    "Q4  Convert a list to a tuple.\n"
   ]
  },
  {
   "cell_type": "code",
   "execution_count": 6,
   "id": "0a8b10e6",
   "metadata": {},
   "outputs": [
    {
     "name": "stdout",
     "output_type": "stream",
     "text": [
      "(1, 2, 3, 4)\n"
     ]
    }
   ],
   "source": [
    "list1 = [1,2,3,4]\n",
    "tup = tuple(list1)\n",
    "print(tup)\n"
   ]
  },
  {
   "cell_type": "markdown",
   "id": "a2ed2b7d",
   "metadata": {},
   "source": [
    "Q5 Convert a tuple to a list."
   ]
  },
  {
   "cell_type": "code",
   "execution_count": 7,
   "id": "73741d57",
   "metadata": {},
   "outputs": [
    {
     "name": "stdout",
     "output_type": "stream",
     "text": [
      "[1, 2, 3, 4, 5]\n"
     ]
    }
   ],
   "source": [
    "tup1=(1,2,3,4,5)\n",
    "list2=list(tup1)\n",
    "print(list2)"
   ]
  },
  {
   "cell_type": "markdown",
   "id": "18994e5d",
   "metadata": {},
   "source": [
    "Q6 Convert a decimal umber to binary."
   ]
  },
  {
   "cell_type": "code",
   "execution_count": 8,
   "id": "bbe20572",
   "metadata": {},
   "outputs": [
    {
     "name": "stdout",
     "output_type": "stream",
     "text": [
      "0b1001\n"
     ]
    }
   ],
   "source": [
    "binary = bin(9)\n",
    "print(binary)"
   ]
  },
  {
   "cell_type": "markdown",
   "id": "c306d12b",
   "metadata": {},
   "source": [
    "Convert a Non-zero number to boolean."
   ]
  },
  {
   "cell_type": "code",
   "execution_count": 10,
   "id": "ff69c8a7",
   "metadata": {},
   "outputs": [
    {
     "name": "stdout",
     "output_type": "stream",
     "text": [
      "True\n"
     ]
    }
   ],
   "source": [
    "n= bool(8)\n",
    "print(n)"
   ]
  }
 ],
 "metadata": {
  "kernelspec": {
   "display_name": "Python 3 (ipykernel)",
   "language": "python",
   "name": "python3"
  },
  "language_info": {
   "codemirror_mode": {
    "name": "ipython",
    "version": 3
   },
   "file_extension": ".py",
   "mimetype": "text/x-python",
   "name": "python",
   "nbconvert_exporter": "python",
   "pygments_lexer": "ipython3",
   "version": "3.10.9"
  }
 },
 "nbformat": 4,
 "nbformat_minor": 5
}
