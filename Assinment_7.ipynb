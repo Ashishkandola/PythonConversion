{
 "cells": [
  {
   "cell_type": "markdown",
   "id": "7392378d",
   "metadata": {},
   "source": [
    "Q1 What is the purpose of the len() function in Python, and how can it be used with strings?"
   ]
  },
  {
   "cell_type": "markdown",
   "id": "bb06107e",
   "metadata": {},
   "source": [
    "The purpose of the len() function in Python is to return the number of items in an object. This function can be used with various data types such as lists, tuples, sets, dictionaries, and strings. When used with strings, len() returns the number of characters in the string.\n",
    "Usage with Strings:\n",
    "The len() function can be used to determine the length of a string, which is the total count of characters, including spaces, punctuation, and special characters."
   ]
  },
  {
   "cell_type": "code",
   "execution_count": 2,
   "id": "8e87f408",
   "metadata": {},
   "outputs": [
    {
     "name": "stdout",
     "output_type": "stream",
     "text": [
      "13\n",
      "\n",
      "Enter your username: ashu\n",
      "Username must be at least 5 characters long.\n",
      "\n",
      "This is a long messa...\n"
     ]
    }
   ],
   "source": [
    "# Example string\n",
    "my_string = \"Hello, World!\"\n",
    "\n",
    "# Using len() to get the number of characters in the string\n",
    "length = len(my_string)\n",
    "\n",
    "# Output the length\n",
    "print(length)  # Outputs: 13\n",
    "print()\n",
    "username = input(\"Enter your username: \")\n",
    "if len(username) < 5:\n",
    "    print(\"Username must be at least 5 characters long.\")\n",
    "\n",
    "print()\n",
    "message = \"This is a long message that needs to be shortened.\"\n",
    "max_length = 20\n",
    "if len(message) > max_length:\n",
    "    message = message[:max_length] + \"...\"\n",
    "print(message)  # Outputs: \"This is a long mes...\"\n"
   ]
  },
  {
   "cell_type": "markdown",
   "id": "489ad75d",
   "metadata": {},
   "source": [
    "Q2. How can you concatenate two or more strings in Python, and can you provide an example of string \n",
    "\n",
    " concatenation?"
   ]
  },
  {
   "cell_type": "markdown",
   "id": "4a37ed46",
   "metadata": {},
   "source": [
    "In Python, you can concatenate two or more strings using several methods:\n",
    "\n",
    "Using the + Operator:\n",
    "\n",
    "The most straightforward way to concatenate strings is using the + operator.\n",
    "Using the join() Method:\n",
    "\n",
    "The join() method is useful when concatenating multiple strings, especially from a list.\n",
    "Using f-strings (formatted string literals):\n",
    "\n",
    "f-strings provide a concise and readable way to embed expressions inside string literals.\n",
    "Using the format() Method:\n",
    "\n",
    "The format() method allows for more control and formatting options."
   ]
  },
  {
   "cell_type": "code",
   "execution_count": 3,
   "id": "386482f5",
   "metadata": {},
   "outputs": [
    {
     "name": "stdout",
     "output_type": "stream",
     "text": [
      "Hello World\n",
      "\n",
      "Hello World from Python\n",
      "\n",
      "Hello World\n",
      "\n",
      "Hello World\n"
     ]
    }
   ],
   "source": [
    "str1 = \"Hello\"\n",
    "str2 = \"World\"\n",
    "result = str1 + \" \" + str2\n",
    "print(result)  # Outputs: \"Hello World\"\n",
    "print()\n",
    "str_list = [\"Hello\", \"World\", \"from\", \"Python\"]\n",
    "result = \" \".join(str_list)\n",
    "print(result)  # Outputs: \"Hello World from Python\"\n",
    "print()\n",
    "\n",
    "str1 = \"Hello\"\n",
    "str2 = \"World\"\n",
    "result = f\"{str1} {str2}\"\n",
    "print(result)  # Outputs: \"Hello World\"\n",
    "print()\n",
    "str1 = \"Hello\"\n",
    "str2 = \"World\"\n",
    "result = \"{} {}\".format(str1, str2)\n",
    "print(result)  # Outputs: \"Hello World\"\n"
   ]
  },
  {
   "cell_type": "markdown",
   "id": "be8f0b1d",
   "metadata": {},
   "source": [
    "Q3. What is string slicing in Python, and how can you extract a portion of a string using this method?"
   ]
  },
  {
   "cell_type": "code",
   "execution_count": 4,
   "id": "0cf4d1cb",
   "metadata": {},
   "outputs": [
    {
     "name": "stdout",
     "output_type": "stream",
     "text": [
      "llo\n",
      "\n",
      "Hello\n",
      "\n",
      "Hello\n",
      "\n",
      "example.com\n"
     ]
    }
   ],
   "source": [
    "\n",
    "\"\"\"String slicing in Python is a technique used to extract a specific portion of a string. This is done by specifying a range of indices to create a substring from the original string.\n",
    "s[start:stop:step]\n",
    "tart (optional): The starting index of the slice (inclusive). If omitted, it defaults to the beginning of the string.\n",
    "stop (optional): The ending index of the slice (exclusive). If omitted, it defaults to the end of the string.\n",
    "step (optional): The step size (default is 1). If omitted, it defaults to 1.\"\"\"\n",
    "s = \"Hello, World!\"\n",
    "substring = s[2:5]\n",
    "print(substring)  # Outputs: \"llo\"\n",
    "\n",
    "print()\n",
    "s = \"Hello, World!\"\n",
    "substring = s[:5]\n",
    "print(substring)  # Outputs: \"Hello\"\n",
    "print()\n",
    "s = \"Hello, World!\"\n",
    "substring = s[:5]\n",
    "print(substring)  # Outputs: \"Hello\"\n",
    "print()\n",
    "\n",
    "email = \"user@example.com\"\n",
    "domain = email[email.index(\"@\") + 1:]\n",
    "print(domain)  # Outputs: \"example.com\"\n"
   ]
  },
  {
   "cell_type": "markdown",
   "id": "267c1502",
   "metadata": {},
   "source": [
    "4. How can you change the case of a string in Python, and can you provide examples of both making a string \n",
    " all uppercase and all lowercase?"
   ]
  },
  {
   "cell_type": "code",
   "execution_count": 7,
   "id": "cfd1e74c",
   "metadata": {},
   "outputs": [
    {
     "name": "stdout",
     "output_type": "stream",
     "text": [
      "hello, world!\n",
      "\n",
      "TO KILL A MOCKINGBIRD\n"
     ]
    }
   ],
   "source": [
    "\"\"\" In Python, you can change the case of a string using the upper() and lower() methods. These methods create and return a new string with all the characters converted to uppercase or lowercase, respectively.\"\"\"\n",
    "original_string = \"Hello, World!\"\n",
    "uppercase_string = original_string.lower()\n",
    "print(uppercase_string)  # Outputs: \"HELLO, WORLD!\"\n",
    "\n",
    "print()\n",
    "title = \"to kill a mockingbird\"\n",
    "formatted_title = title.upper()\n",
    "print(formatted_title)  # Outputs: \"TO KILL A MOCKINGBIRD\"\n"
   ]
  },
  {
   "cell_type": "markdown",
   "id": "bf577274",
   "metadata": {},
   "source": [
    "Q5. What does the split() method do in Python, and how can you split a string using a specific delimiter?"
   ]
  },
  {
   "cell_type": "markdown",
   "id": "3636ba82",
   "metadata": {},
   "source": [
    "the split() method is used to split a string into a list of substrings based on a specified delimiter. By default, the delimiter used is any whitespace (spaces, tabs, newlines). The split() method returns a list of substrings obtained after splitting the original string at each occurrence of the delimiter.\n",
    "string.split(sep=None, maxsplit=-1)\n"
   ]
  },
  {
   "cell_type": "code",
   "execution_count": 8,
   "id": "716fe408",
   "metadata": {},
   "outputs": [
    {
     "name": "stdout",
     "output_type": "stream",
     "text": [
      "['Hello,', 'World!', 'This', 'is', 'a', 'test.']\n"
     ]
    }
   ],
   "source": [
    "sentence = \"Hello, World! This is a test.\"\n",
    "words = sentence.split()\n",
    "print(words)  # Outputs: ['Hello,', 'World!', 'This', 'is', 'a', 'test.']\n"
   ]
  },
  {
   "cell_type": "code",
   "execution_count": 9,
   "id": "7f2530ba",
   "metadata": {},
   "outputs": [
    {
     "name": "stdout",
     "output_type": "stream",
     "text": [
      "['one', 'two', 'three four five']\n"
     ]
    }
   ],
   "source": [
    "sentence = \"one two three four five\"\n",
    "parts = sentence.split(maxsplit=2)\n",
    "print(parts)  # Outputs: ['one', 'two', 'three four five']\n"
   ]
  }
 ],
 "metadata": {
  "kernelspec": {
   "display_name": "Python 3 (ipykernel)",
   "language": "python",
   "name": "python3"
  },
  "language_info": {
   "codemirror_mode": {
    "name": "ipython",
    "version": 3
   },
   "file_extension": ".py",
   "mimetype": "text/x-python",
   "name": "python",
   "nbconvert_exporter": "python",
   "pygments_lexer": "ipython3",
   "version": "3.10.9"
  }
 },
 "nbformat": 4,
 "nbformat_minor": 5
}
