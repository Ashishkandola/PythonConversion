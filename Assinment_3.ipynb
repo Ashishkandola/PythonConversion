{
 "cells": [
  {
   "cell_type": "markdown",
   "id": "9f216f22",
   "metadata": {},
   "source": [
    "Q1 Explain the significance of Python keywords and provide examples of five keywords"
   ]
  },
  {
   "cell_type": "code",
   "execution_count": 1,
   "id": "615df53b",
   "metadata": {},
   "outputs": [
    {
     "name": "stdout",
     "output_type": "stream",
     "text": [
      "x is greater than 5\n",
      "apple\n",
      "banana\n",
      "cherry\n",
      "1\n",
      "2\n",
      "3\n",
      "4\n",
      "5\n",
      "Hello, PuSpa\n",
      "8\n"
     ]
    }
   ],
   "source": [
    "'''Python keywords are reserved words that have special meanings and functionalities within the Python language.\n",
    "These keywords cannot be used as identifiers (like variable names or function names) because they are predefined and \n",
    "serve specific purposes in the syntax and semantics of Python code.\n",
    "Here are five Python keywords along with their significance and examples: if, for, while, def,return etc'''\n",
    "x = 10\n",
    "if x > 5:\n",
    "    print(\"x is greater than 5\")\n",
    "    \n",
    "    \n",
    "fruits = [\"apple\", \"banana\", \"cherry\"]\n",
    "for fruit in fruits:\n",
    "    print(fruit)\n",
    "    \n",
    "    \n",
    "i = 1\n",
    "while i < 6:\n",
    "    print(i)\n",
    "    i += 1\n",
    "    \n",
    "    \n",
    "def greet(name):\n",
    "    print(\"Hello, \" + name)\n",
    "\n",
    "greet(\"PuSpa\")    \n",
    "\n",
    "\n",
    "def add(x, y):\n",
    "    return x + y\n",
    "\n",
    "result = add(3, 5)\n",
    "print(result)  \n"
   ]
  },
  {
   "cell_type": "markdown",
   "id": "e52643a3",
   "metadata": {},
   "source": [
    "Q2 Describe the rules for defining identifiers in Python and provide an example"
   ]
  },
  {
   "cell_type": "raw",
   "id": "e137a203",
   "metadata": {},
   "source": [
    "In Python, identifiers are names used to identify variables, functions, classes, modules, or other objects. They follow certain rules for their formation. Here are the rules for defining identifiers in Python:\n",
    "\n",
    "Valid Characters: Identifiers can consist of letters (both uppercase and lowercase), digits, and underscores . They must start with a letter (a-z, A-Z) or an underscore (_).\n",
    "\n",
    "Case Sensitivity: Python is case-sensitive, so identifiers that differ only in their case are considered different.\n",
    "\n",
    "Reserved Words: Identifiers cannot be the same as Python keywords or reserved words.\n",
    "\n",
    "Length: There is no limit on the length of an identifier, but it a good practice to keep them concise and descriptive.\n",
    "\n",
    "No Special Characters: Identifiers cannot contain special characters such as !, @, #, $, %, etc.\n",
    "\n",
    "Conventions: It a convention in Python to use lowercase letters for variable names and lowercase or lowercase_with_underscores for function and method names. Class names typically use CamelCase convention.\n",
    "\n",
    "Examples\n",
    "valid identifiers:\n",
    "\n",
    "var1\n",
    "_var1\n",
    "_1_var\n",
    "var_1\n",
    "Invalid Identifiers\n",
    "\n",
    "!var1\n",
    "1var\n",
    "1_var\n",
    "var#1\n",
    "var 1\n",
    "    "
   ]
  },
  {
   "cell_type": "code",
   "execution_count": 4,
   "id": "e046c21f",
   "metadata": {},
   "outputs": [
    {
     "name": "stdout",
     "output_type": "stream",
     "text": [
      "\n"
     ]
    },
    {
     "data": {
      "text/plain": [
       "'\\nThis is a multi-line comment.\\nIt can span multiple lines.\\n'"
      ]
     },
     "execution_count": 4,
     "metadata": {},
     "output_type": "execute_result"
    }
   ],
   "source": [
    "#Q3 What are comments in Python, and why are they useful Provide an example\n",
    "\"\"\"Comments in Python are lines of text that are ignored by the Python interpreter. They are used to explain the code to others, or to make notes to yourself about what the code does.\n",
    "Comments can be single-line or multi-line.\"\"\"\n",
    "# This is a single-line comment.\n",
    "print()\n",
    "'''\n",
    "This is a multi-line comment.\n",
    "It can span multiple lines.\n",
    "'''\n"
   ]
  },
  {
   "cell_type": "markdown",
   "id": "6a8ee8bb",
   "metadata": {},
   "source": [
    "Q4why is proper indentation important in python"
   ]
  },
  {
   "cell_type": "markdown",
   "id": "afe5c438",
   "metadata": {},
   "source": [
    "Readability:\n",
    "Indentation makes code more readable and easier to understand. By visually grouping together statements that\n",
    "belong to the same block of code, indentation helps programmers to quickly identify the structure of the code.\n",
    "Accuracy:\n",
    "Indentation is essential for the proper execution of Python code. If statements are not indented correctly,\n",
    "Python will not be able to understand the structure of the code and will produce an error\n",
    "\n",
    "Indentation makes code easier to maintain and update. When code is well-indented, it is easier for programmers to identify \n",
    "and understand the different blocks of code. This makes it easier to make changes to the code without accidentally breaking it.\n",
    "\n"
   ]
  },
  {
   "cell_type": "markdown",
   "id": "745b471b",
   "metadata": {},
   "source": [
    "Q5 What happens if indentation is incorrect in Python"
   ]
  },
  {
   "cell_type": "markdown",
   "id": "b9397771",
   "metadata": {},
   "source": [
    "Indentation is more than just about appearances; it serves a fundamental purpose in Python programming. Python relies on indentation to define the scope and structure of statements, loops, and functions. \n",
    "Unlike other programming languages that use curly braces or keywords, Python uses indentation to group statements together. This makes your code readable, maintainable, and less prone to errors.\n",
    "Let's look at some examples to understand how indentation works."
   ]
  }
 ],
 "metadata": {
  "kernelspec": {
   "display_name": "Python 3 (ipykernel)",
   "language": "python",
   "name": "python3"
  },
  "language_info": {
   "codemirror_mode": {
    "name": "ipython",
    "version": 3
   },
   "file_extension": ".py",
   "mimetype": "text/x-python",
   "name": "python",
   "nbconvert_exporter": "python",
   "pygments_lexer": "ipython3",
   "version": "3.10.9"
  }
 },
 "nbformat": 4,
 "nbformat_minor": 5
}
