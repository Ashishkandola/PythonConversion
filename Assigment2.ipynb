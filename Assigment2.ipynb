{
 "cells": [
  {
   "cell_type": "markdown",
   "id": "90244f2c",
   "metadata": {},
   "source": [
    "\n",
    "# Python Operators"
   ]
  },
  {
   "cell_type": "markdown",
   "id": "93257006",
   "metadata": {},
   "source": [
    "# Assignment Questions"
   ]
  },
  {
   "cell_type": "markdown",
   "id": "0809b94b",
   "metadata": {},
   "source": [
    "Q1 Calculate the sum, difference, product, and quotient of two numbers."
   ]
  },
  {
   "cell_type": "code",
   "execution_count": 4,
   "id": "09466480",
   "metadata": {},
   "outputs": [
    {
     "name": "stdout",
     "output_type": "stream",
     "text": [
      "Sum Of the Number 15\n",
      "Difference Of the Number 5\n",
      "Product Of the Number 50\n",
      "Quotient Of the Number 2\n"
     ]
    }
   ],
   "source": [
    "N1 =5\n",
    "N2 =10\n",
    "print(\"Sum Of the Number\",N1+N2 )\n",
    "print(\"Difference Of the Number\", N2-N1)\n",
    "print(\"Product Of the Number\", N2*N1)\n",
    "print(\"Quotient Of the Number\", N2//N1)"
   ]
  },
  {
   "cell_type": "markdown",
   "id": "ae28de49",
   "metadata": {},
   "source": [
    "Q2 Perform various assignment operations on a variable "
   ]
  },
  {
   "cell_type": "code",
   "execution_count": 11,
   "id": "d7a7b0dc",
   "metadata": {},
   "outputs": [
    {
     "name": "stdout",
     "output_type": "stream",
     "text": [
      "8\n",
      "17\n",
      "15\n",
      "30\n",
      "15.0\n"
     ]
    }
   ],
   "source": [
    "#Assignment Opereration ->Assignment Operators are used to assign values to variables. \n",
    "#This operator is used to assign the value of the right side of the expression to the left side operand\n",
    "x=8\n",
    "print(x)\n",
    "x+=9\n",
    "print(x)\n",
    "x-=2\n",
    "print(x)\n",
    "x*=2\n",
    "print(x)\n",
    "x/=2\n",
    "print(x)"
   ]
  },
  {
   "cell_type": "markdown",
   "id": "a9305f61",
   "metadata": {},
   "source": [
    "Q3  Compare two Numbers and print the results."
   ]
  },
  {
   "cell_type": "code",
   "execution_count": 16,
   "id": "b9e8ffba",
   "metadata": {
    "scrolled": true
   },
   "outputs": [
    {
     "name": "stdout",
     "output_type": "stream",
     "text": [
      "False\n",
      "True\n",
      "True\n",
      "True\n"
     ]
    }
   ],
   "source": [
    "#Comparison operators are used to compare two values\n",
    "A1=5\n",
    "B1=6\n",
    "print(A1==B1)\n",
    "#return False  because 5 is not equal to 6\n",
    "print(A1!=B1)\n",
    "#return  True because 5 is not equal to 6\n",
    "print(A1<B1)\n",
    "#return  True because 5  is Less than to \n",
    "print(B1>A1)\n",
    "#return  True because 6  is Greater  than to 5\n"
   ]
  },
  {
   "cell_type": "markdown",
   "id": "95757014",
   "metadata": {},
   "source": [
    "Q4 Check conditions using logical operators."
   ]
  },
  {
   "cell_type": "code",
   "execution_count": 17,
   "id": "925a0766",
   "metadata": {},
   "outputs": [
    {
     "name": "stdout",
     "output_type": "stream",
     "text": [
      "True\n",
      "True\n",
      "False\n"
     ]
    }
   ],
   "source": [
    "x = 5\n",
    "print(x > 3 and x < 10)\n",
    "# returns True because 5 is greater than 3 AND 5 is less than 10\n",
    "x = 5\n",
    "print(x > 3 or x < 4)\n",
    "# returns True because one of the conditions are true (5 is greater than 3, but 5 is not less than 4)\n",
    "x = 5\n",
    "print(not(x > 3 and x < 10))\n",
    "# returns False because not is used to reverse the result\n"
   ]
  },
  {
   "cell_type": "markdown",
   "id": "cd119081",
   "metadata": {},
   "source": [
    "Q5 Check the identity of Variables.\n"
   ]
  },
  {
   "cell_type": "code",
   "execution_count": 22,
   "id": "72bebcde",
   "metadata": {},
   "outputs": [
    {
     "name": "stdout",
     "output_type": "stream",
     "text": [
      "True\n",
      "False\n"
     ]
    }
   ],
   "source": [
    "x = [\"ram\", \"sam\"]\n",
    "y = [\"ram\", \"sam\"]\n",
    "z = x\n",
    "print(x is z)\n",
    "# returns True because z is the same object as x\n",
    "print(x is y)\n",
    "# returns False because x is not the same object as y, even if they have the same content because they are differnt object store in memory"
   ]
  },
  {
   "cell_type": "markdown",
   "id": "1ba46a37",
   "metadata": {},
   "source": [
    "Q6 Perform bitwise operations on any two integers."
   ]
  },
  {
   "cell_type": "code",
   "execution_count": 25,
   "id": "55c14b38",
   "metadata": {},
   "outputs": [
    {
     "name": "stdout",
     "output_type": "stream",
     "text": [
      "2\n",
      "7\n",
      "5\n"
     ]
    }
   ],
   "source": [
    "\"\"\"\n",
    "The & operator compares each bit and set it to 1 if both are 1, otherwise it is set to 0:\n",
    "6 = 0000000000000110\n",
    "3 = 0000000000000011\n",
    "7 = 0000000000000111\n",
    "5 = 0000000000000101\n",
    "2 = 0000000000000010\"\"\"\n",
    "print(6 & 3)\n",
    "print(6 | 3)\n",
    "print(6 ^ 3)\n"
   ]
  },
  {
   "cell_type": "markdown",
   "id": "cd04f941",
   "metadata": {},
   "source": [
    "Q7 Use Unary operators to change the sign of a number."
   ]
  },
  {
   "cell_type": "code",
   "execution_count": 27,
   "id": "f0a686d7",
   "metadata": {},
   "outputs": [
    {
     "name": "stdout",
     "output_type": "stream",
     "text": [
      "Number with changed sign: -10\n"
     ]
    }
   ],
   "source": [
    "number = 10\n",
    "\n",
    "# Change the sign using unary operator\n",
    "number = -number\n",
    "\n",
    "print(\"Number with changed sign:\", number)  # Output: -10"
   ]
  },
  {
   "cell_type": "markdown",
   "id": "6fa1fa09",
   "metadata": {},
   "source": [
    "Q8 Use the ternary operator to assign Values based on conditions."
   ]
  },
  {
   "cell_type": "code",
   "execution_count": 31,
   "id": "db803538",
   "metadata": {},
   "outputs": [
    {
     "name": "stdout",
     "output_type": "stream",
     "text": [
      "46\n",
      "68\n",
      "114\n"
     ]
    }
   ],
   "source": [
    "#only even number\n",
    "x= int(input())\n",
    "y=int(input())\n",
    "print(x+y if x%2==0 & y%2==0 else \"not working\" )"
   ]
  },
  {
   "cell_type": "code",
   "execution_count": null,
   "id": "4a73cfae",
   "metadata": {},
   "outputs": [],
   "source": []
  }
 ],
 "metadata": {
  "kernelspec": {
   "display_name": "Python 3 (ipykernel)",
   "language": "python",
   "name": "python3"
  },
  "language_info": {
   "codemirror_mode": {
    "name": "ipython",
    "version": 3
   },
   "file_extension": ".py",
   "mimetype": "text/x-python",
   "name": "python",
   "nbconvert_exporter": "python",
   "pygments_lexer": "ipython3",
   "version": "3.10.9"
  }
 },
 "nbformat": 4,
 "nbformat_minor": 5
}
