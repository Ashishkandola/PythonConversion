{
 "cells": [
  {
   "cell_type": "code",
   "execution_count": 2,
   "id": "11a69a4a",
   "metadata": {},
   "outputs": [
    {
     "name": "stdout",
     "output_type": "stream",
     "text": [
      "[0 1 2 3 4 5]\n",
      "Data type of the array: int32\n"
     ]
    }
   ],
   "source": [
    "import numpy as np\n",
    "\n",
    "#  Q1 Create a NumPy array 'arr' of integers from 0 to 5\n",
    "arr = np.arange(6)\n",
    "\n",
    "# Print the data type of the array\n",
    "print(arr)\n",
    "print(\"Data type of the array:\", arr.dtype)\n"
   ]
  },
  {
   "cell_type": "code",
   "execution_count": 3,
   "id": "7ab1af95",
   "metadata": {},
   "outputs": [
    {
     "name": "stdout",
     "output_type": "stream",
     "text": [
      "The data type of 'arr' is float64.\n"
     ]
    }
   ],
   "source": [
    "#Q2 Create a NumPy array 'arr' check if its data type is float64.\n",
    "\n",
    "#arr = np.array([1.5, 2.6, 3.7])\n",
    "import numpy as np\n",
    "\n",
    "# Create a NumPy array 'arr'\n",
    "arr = np.array([1.5, 2.6, 3.7])\n",
    "\n",
    "# Check if the data type of 'arr' is float64\n",
    "if arr.dtype == np.float64:\n",
    "    print(\"The data type of 'arr' is float64.\")\n",
    "else:\n",
    "    print(\"The data type of 'arr' is not float64.\")\n"
   ]
  },
  {
   "cell_type": "code",
   "execution_count": 4,
   "id": "30c407f9",
   "metadata": {},
   "outputs": [
    {
     "name": "stdout",
     "output_type": "stream",
     "text": [
      "[1.+2.j 3.+4.j 5.+6.j]\n",
      "Data type of the array: complex128\n"
     ]
    }
   ],
   "source": [
    "#Create a NumPy array 'arr' with a data type of complex128 containing three complex numbers.\n",
    "import numpy as np\n",
    "\n",
    "# Create a NumPy array 'arr' with complex128 data type\n",
    "arr = np.array([1+2j, 3+4j, 5+6j], dtype=np.complex128)\n",
    "\n",
    "# Print the array and its data type\n",
    "print(arr)\n",
    "print(\"Data type of the array:\", arr.dtype)\n"
   ]
  },
  {
   "cell_type": "code",
   "execution_count": 5,
   "id": "76527da5",
   "metadata": {},
   "outputs": [
    {
     "name": "stdout",
     "output_type": "stream",
     "text": [
      "Original array: [1 2 3 4 5]\n",
      "Converted array: [1. 2. 3. 4. 5.]\n",
      "Data type of the converted array: float32\n"
     ]
    }
   ],
   "source": [
    "# Convert an existing NumPy array 'arr' of integers to float32 data type.\n",
    "import numpy as np\n",
    "\n",
    "# Create a NumPy array 'arr' of integers\n",
    "arr = np.array([1, 2, 3, 4, 5])\n",
    "\n",
    "# Convert the array to float32 data type\n",
    "arr_float32 = arr.astype(np.float32)\n",
    "\n",
    "# Print the original and the converted arrays\n",
    "print(\"Original array:\", arr)\n",
    "print(\"Converted array:\", arr_float32)\n",
    "print(\"Data type of the converted array:\", arr_float32.dtype)\n"
   ]
  },
  {
   "cell_type": "code",
   "execution_count": 6,
   "id": "39eeb776",
   "metadata": {},
   "outputs": [
    {
     "name": "stdout",
     "output_type": "stream",
     "text": [
      "Original array: [1.12345679 2.98765432 3.14159265]\n",
      "Converted array with reduced precision: [1.1234568 2.9876542 3.1415927]\n",
      "Data type of the converted array: float32\n"
     ]
    }
   ],
   "source": [
    "# Given a NumPy array 'arr' with float64 data type, convert it to float32 to reduce decimal precision.\n",
    "import numpy as np\n",
    "\n",
    "# Create a NumPy array 'arr' with float64 data type\n",
    "arr = np.array([1.123456789, 2.987654321, 3.1415926535], dtype=np.float64)\n",
    "\n",
    "# Convert the array to float32 data type\n",
    "arr_float32 = arr.astype(np.float32)\n",
    "\n",
    "# Print the original and the converted arrays\n",
    "print(\"Original array:\", arr)\n",
    "print(\"Converted array with reduced precision:\", arr_float32)\n",
    "print(\"Data type of the converted array:\", arr_float32.dtype)\n"
   ]
  },
  {
   "cell_type": "code",
   "execution_count": 7,
   "id": "77fe4bc2",
   "metadata": {},
   "outputs": [
    {
     "name": "stdout",
     "output_type": "stream",
     "text": [
      "Shape: (2, 3)\n",
      "Size: 6\n",
      "Data type: int32\n"
     ]
    }
   ],
   "source": [
    "#7Write a function array_attributes that takes a NumPy array as input and returns its shape, size, and data type.\n",
    "import numpy as np\n",
    "\n",
    "def array_attributes(arr):\n",
    "    # Get the shape of the array\n",
    "    shape = arr.shape\n",
    "    # Get the size of the array\n",
    "    size = arr.size\n",
    "    # Get the data type of the array\n",
    "    dtype = arr.dtype\n",
    "    \n",
    "    return shape, size, dtype\n",
    "\n",
    "# Example usage\n",
    "arr = np.array([[1, 2, 3], [4, 5, 6]])\n",
    "shape, size, dtype = array_attributes(arr)\n",
    "print(\"Shape:\", shape)\n",
    "print(\"Size:\", size)\n",
    "print(\"Data type:\", dtype)\n",
    "\n"
   ]
  },
  {
   "cell_type": "code",
   "execution_count": 3,
   "id": "3e93371c",
   "metadata": {},
   "outputs": [
    {
     "name": "stdout",
     "output_type": "stream",
     "text": [
      "Dimensionality of the array: 2\n"
     ]
    }
   ],
   "source": [
    "import numpy as np\n",
    "#Create a function array_dimension that takes a NumPy array as input and returns its dimensionality\n",
    "def array_dimension(arr):\n",
    "    # Get the dimensionality of the array\n",
    "    return arr.ndim\n",
    "\n",
    "# Example usage\n",
    "arr = np.array([[1, 2, 3], [4, 5, 6]])\n",
    "dimensionality = array_dimension(arr)\n",
    "print(\"Dimensionality of the array:\", dimensionality)\n"
   ]
  },
  {
   "cell_type": "code",
   "execution_count": 4,
   "id": "4cc330ed",
   "metadata": {},
   "outputs": [
    {
     "name": "stdout",
     "output_type": "stream",
     "text": [
      "Item size: 4 bytes\n",
      "Total size: 20 bytes\n"
     ]
    }
   ],
   "source": [
    "#Design a function item_size_info that takes a NumPy array as input and returns the item size and the totalsize in bytes.\n",
    "\n",
    "\n",
    "def item_size_info(arr):\n",
    "    # Get the size of one element in the array (in bytes)\n",
    "    item_size = arr.itemsize\n",
    "    \n",
    "    # Get the total size of the array (in bytes)\n",
    "    total_size = arr.nbytes\n",
    "    \n",
    "    return item_size, total_size\n",
    "\n",
    "# Example usage:\n",
    "arr = np.array([1, 2, 3, 4, 5])\n",
    "item_size, total_size = item_size_info(arr)\n",
    "print(f\"Item size: {item_size} bytes\")\n",
    "print(f\"Total size: {total_size} bytes\")\n"
   ]
  },
  {
   "cell_type": "code",
   "execution_count": 5,
   "id": "5c5f1736",
   "metadata": {},
   "outputs": [
    {
     "name": "stdout",
     "output_type": "stream",
     "text": [
      "Strides: (12, 4)\n"
     ]
    }
   ],
   "source": [
    "#9. Create a function array_strides that takes a NumPy array as input and returns the strides of the array\n",
    "import numpy as np\n",
    "\n",
    "def array_strides(arr):\n",
    "    # Return the strides of the array\n",
    "    return arr.strides\n",
    "\n",
    "# Example usage:\n",
    "arr = np.array([[1, 2, 3], [4, 5, 6]])\n",
    "strides = array_strides(arr)\n",
    "print(f\"Strides: {strides}\")\n"
   ]
  },
  {
   "cell_type": "markdown",
   "id": "b4d0fbca",
   "metadata": {},
   "source": [
    "arr.strides: This attribute returns a tuple of integers that indicate how many bytes to skip in memory when moving to the next element along each dimension of the array."
   ]
  },
  {
   "cell_type": "code",
   "execution_count": 6,
   "id": "f4743c24",
   "metadata": {},
   "outputs": [
    {
     "name": "stdout",
     "output_type": "stream",
     "text": [
      "[0. 0. 0. 0. 0.]\n"
     ]
    }
   ],
   "source": [
    "#10Create a function `create_zeros_array` that takes an integer `n` as input and returns a NumPy array of zeros with `n` elements\n",
    "\n",
    "\n",
    "def create_zeros_array(n):\n",
    "    # Create and return a NumPy array of zeros with n elements\n",
    "    return np.zeros(n)\n",
    "\n",
    "# Example usage:\n",
    "n = 5\n",
    "zeros_array = create_zeros_array(n)\n",
    "print(zeros_array)\n"
   ]
  },
  {
   "cell_type": "markdown",
   "id": "6fa12365",
   "metadata": {},
   "source": [
    "np.zeros(n): This function generates a NumPy array of length n, filled with zeros.\n",
    "This function will return an array of zeros of any length you specify with n."
   ]
  },
  {
   "cell_type": "code",
   "execution_count": 7,
   "id": "5a36ae96",
   "metadata": {},
   "outputs": [
    {
     "name": "stdout",
     "output_type": "stream",
     "text": [
      "[[1. 1. 1. 1.]\n",
      " [1. 1. 1. 1.]\n",
      " [1. 1. 1. 1.]]\n"
     ]
    }
   ],
   "source": [
    "#11 Write a function `create_ones_matrix` that takes integers `rows` and `cols` as inputs and generates a 2D NumPy array filled with ones of size `rows x cols`.\n",
    "import numpy as np\n",
    "\n",
    "def create_ones_matrix(rows, cols):\n",
    "    # Create and return a 2D NumPy array of ones with shape (rows, cols)\n",
    "    return np.ones((rows, cols))\n",
    "\n",
    "# Example usage:\n",
    "rows = 3\n",
    "cols = 4\n",
    "ones_matrix = create_ones_matrix(rows, cols)\n",
    "print(ones_matrix)\n"
   ]
  },
  {
   "cell_type": "markdown",
   "id": "7d28c34c",
   "metadata": {},
   "source": [
    "np.ones((rows, cols)): This creates a 2D NumPy array of shape (rows, cols) filled with ones.\n",
    "This function will generate a matrix of any size filled with ones based on the input values of rows and cols."
   ]
  },
  {
   "cell_type": "code",
   "execution_count": 8,
   "id": "5c10167d",
   "metadata": {},
   "outputs": [
    {
     "name": "stdout",
     "output_type": "stream",
     "text": [
      "[1 3 5 7 9]\n"
     ]
    }
   ],
   "source": [
    "#12Write a function `generate_range_array` that takes three integers start, stop, and step as arguments and\n",
    "#creates a NumPy array with a range starting from `start`, ending at stop (exclusive), and with the specified `step`.\n",
    "\n",
    "\n",
    "def generate_range_array(start, stop, step):\n",
    "    # Create and return a NumPy array with the specified range\n",
    "    return np.arange(start, stop, step)\n",
    "\n",
    "# Example usage:\n",
    "start = 1\n",
    "stop = 10\n",
    "step = 2\n",
    "range_array = generate_range_array(start, stop, step)\n",
    "print(range_array)\n"
   ]
  },
  {
   "cell_type": "markdown",
   "id": "919a1e4b",
   "metadata": {},
   "source": [
    "np.arange(start, stop, step): This function generates a NumPy array starting from start, going up to (but not including) stop, with a step size of step."
   ]
  },
  {
   "cell_type": "code",
   "execution_count": 13,
   "id": "4c1fa3df",
   "metadata": {},
   "outputs": [
    {
     "name": "stdout",
     "output_type": "stream",
     "text": [
      "[0.   0.25 0.5  0.75 1.  ]\n"
     ]
    }
   ],
   "source": [
    "#14 Design a function `generate_linear_space` that takes two floats `start`, `stop`, and an integer `num` as\n",
    "#arguments and generates a NumPy array with num equally spaced values between `start` and `stop`\n",
    "#(inclusive).\n",
    "\n",
    "import numpy as np\n",
    "\n",
    "def generate_linear_space(start, stop, num):\n",
    "    # Create and return a NumPy array with num equally spaced values between start and stop\n",
    "    return np.linspace(start, stop, num)\n",
    "\n",
    "# Example usage:\n",
    "start = 0.0\n",
    "stop = 1.0\n",
    "num = 5\n",
    "linear_space_array = generate_linear_space(start, stop, num)\n",
    "print(linear_space_array)\n"
   ]
  },
  {
   "cell_type": "markdown",
   "id": "5cb5dc05",
   "metadata": {},
   "source": [
    "np.linspace(start, stop, num): This function generates num equally spaced values between start and stop (both inclusive)."
   ]
  },
  {
   "cell_type": "code",
   "execution_count": 12,
   "id": "19d05228",
   "metadata": {},
   "outputs": [
    {
     "name": "stdout",
     "output_type": "stream",
     "text": [
      "[[1. 0. 0. 0.]\n",
      " [0. 1. 0. 0.]\n",
      " [0. 0. 1. 0.]\n",
      " [0. 0. 0. 1.]]\n"
     ]
    }
   ],
   "source": [
    "#15Create a function `create_identity_matrix` that takes an integer `n` as input and generates a square\n",
    "#identity matrix of size `n x n` using `numpy.eye`.\n",
    "\n",
    "\n",
    "def create_identity_matrix(n):\n",
    "    # Create and return an identity matrix of size n x n\n",
    "    return np.eye(n)\n",
    "\n",
    "# Example usage:\n",
    "n = 4\n",
    "identity_matrix = create_identity_matrix(n)\n",
    "print(identity_matrix)\n"
   ]
  },
  {
   "cell_type": "markdown",
   "id": "c1287832",
   "metadata": {},
   "source": [
    "np.eye(n): This function creates a 2D square identity matrix of size n x n, where the diagonal elements are 1 and the off-diagonal elements are 0."
   ]
  },
  {
   "cell_type": "code",
   "execution_count": 11,
   "id": "7f17e616",
   "metadata": {},
   "outputs": [
    {
     "name": "stdout",
     "output_type": "stream",
     "text": [
      "[1 2 3 4 5]\n"
     ]
    }
   ],
   "source": [
    "#16Write a function that takes a Python list and converts it into a NumPy array.\n",
    "\n",
    "def list_to_numpy_array(py_list):\n",
    "    # Convert the Python list to a NumPy array\n",
    "    return np.array(py_list)\n",
    "\n",
    "# Example usage:\n",
    "py_list = [1, 2, 3, 4, 5]\n",
    "numpy_array = list_to_numpy_array(py_list)\n",
    "print(numpy_array)\n"
   ]
  },
  {
   "cell_type": "code",
   "execution_count": 14,
   "id": "3efd825b",
   "metadata": {},
   "outputs": [
    {
     "name": "stdout",
     "output_type": "stream",
     "text": [
      "Original array: [1 2 3 4 5]\n",
      "New array (view): [1 2 3 4 5]\n"
     ]
    }
   ],
   "source": [
    "#17. Create a NumPy array and demonstrate the use of numpy.view to create a new array object with the same data.\n",
    "import numpy as np\n",
    "\n",
    "# Original array\n",
    "original_array = np.array([1, 2, 3, 4, 5])\n",
    "\n",
    "# Create a view of the array\n",
    "new_array_view = original_array.view()\n",
    "\n",
    "# Print both arrays\n",
    "print(\"Original array:\", original_array)\n",
    "print(\"New array (view):\", new_array_view)\n"
   ]
  },
  {
   "cell_type": "code",
   "execution_count": 15,
   "id": "e93b96bd",
   "metadata": {},
   "outputs": [
    {
     "name": "stdout",
     "output_type": "stream",
     "text": [
      "[[1 2]\n",
      " [3 4]\n",
      " [5 6]\n",
      " [7 8]]\n"
     ]
    }
   ],
   "source": [
    "#18. Write a function that takes two NumPy arrays and concatenates them along a specified axis.\n",
    "def concatenate_arrays(arr1, arr2, axis=0):\n",
    "    return np.concatenate((arr1, arr2), axis=axis)\n",
    "\n",
    "# Example usage\n",
    "arr1 = np.array([[1, 2], [3, 4]])\n",
    "arr2 = np.array([[5, 6], [7, 8]])\n",
    "\n",
    "print(concatenate_arrays(arr1, arr2, axis=0))\n"
   ]
  },
  {
   "cell_type": "code",
   "execution_count": 16,
   "id": "19e61932",
   "metadata": {},
   "outputs": [
    {
     "name": "stdout",
     "output_type": "stream",
     "text": [
      "[[1 2 5]\n",
      " [3 4 6]]\n"
     ]
    }
   ],
   "source": [
    "#19. Create two NumPy arrays with different shapes and concatenate them horizontally using numpy.concatenate.\n",
    "arr1 = np.array([[1, 2], [3, 4]])\n",
    "arr2 = np.array([[5, 6]])\n",
    "\n",
    "# Concatenate horizontally (axis=1)\n",
    "result = np.concatenate((arr1, arr2.T), axis=1)\n",
    "\n",
    "print(result)\n"
   ]
  },
  {
   "cell_type": "code",
   "execution_count": 17,
   "id": "ea74c733",
   "metadata": {},
   "outputs": [
    {
     "name": "stdout",
     "output_type": "stream",
     "text": [
      "[[1 2 3]\n",
      " [4 5 6]]\n"
     ]
    }
   ],
   "source": [
    "#20. Write a function that vertically stacks multiple NumPy arrays given as a list.\n",
    "def vertical_stack(arrays_list):\n",
    "    return np.vstack(arrays_list)\n",
    "\n",
    "# Example usage\n",
    "arr1 = np.array([1, 2, 3])\n",
    "arr2 = np.array([4, 5, 6])\n",
    "\n",
    "print(vertical_stack([arr1, arr2]))\n"
   ]
  },
  {
   "cell_type": "code",
   "execution_count": 18,
   "id": "4d11c302",
   "metadata": {},
   "outputs": [
    {
     "name": "stdout",
     "output_type": "stream",
     "text": [
      "[1 3 5 7 9]\n"
     ]
    }
   ],
   "source": [
    "#21. Write a Python function using NumPy to create an array of integers within a specified range (inclusive) with a given step size.\n",
    "def create_range_array(start, stop, step):\n",
    "    return np.arange(start, stop + 1, step)\n",
    "\n",
    "# Example usage\n",
    "print(create_range_array(1, 10, 2))\n"
   ]
  },
  {
   "cell_type": "code",
   "execution_count": 19,
   "id": "a216a612",
   "metadata": {},
   "outputs": [
    {
     "name": "stdout",
     "output_type": "stream",
     "text": [
      "[0.         0.11111111 0.22222222 0.33333333 0.44444444 0.55555556\n",
      " 0.66666667 0.77777778 0.88888889 1.        ]\n"
     ]
    }
   ],
   "source": [
    "#22. Write a Python function using NumPy to generate an array of 10 equally spaced values between 0 and 1 (inclusive).\n",
    "def generate_equally_spaced():\n",
    "    return np.linspace(0, 1, 10)\n",
    "\n",
    "# Example usage\n",
    "print(generate_equally_spaced())\n"
   ]
  },
  {
   "cell_type": "code",
   "execution_count": 20,
   "id": "f8503484",
   "metadata": {},
   "outputs": [
    {
     "name": "stdout",
     "output_type": "stream",
     "text": [
      "[   1.            5.62341325   31.6227766   177.827941   1000.        ]\n"
     ]
    }
   ],
   "source": [
    "#23. Write a Python function using NumPy to create an array of 5 logarithmically spaced values between 1 and 1000 (inclusive).\n",
    "def generate_log_space():\n",
    "    return np.logspace(0, 3, 5)\n",
    "\n",
    "# Example usage\n",
    "print(generate_log_space())\n"
   ]
  },
  {
   "cell_type": "code",
   "execution_count": 21,
   "id": "c265c302",
   "metadata": {},
   "outputs": [
    {
     "name": "stdout",
     "output_type": "stream",
     "text": [
      "    A   B   C\n",
      "0  78  70  38\n",
      "1  43  32  47\n",
      "2  86  45   7\n",
      "3  63  99  20\n",
      "4  45  35  37\n"
     ]
    }
   ],
   "source": [
    "#24. Create a Pandas DataFrame using a NumPy array that contains 5 rows and 3 columns,\n",
    "#where the values are random integers between 1 and 100\n",
    "import pandas as pd\n",
    "\n",
    "def create_dataframe():\n",
    "    data = np.random.randint(1, 101, size=(5, 3))\n",
    "    df = pd.DataFrame(data, columns=['A', 'B', 'C'])\n",
    "    return df\n",
    "\n",
    "# Example usage\n",
    "print(create_dataframe())\n"
   ]
  },
  {
   "cell_type": "code",
   "execution_count": 24,
   "id": "61f3db81",
   "metadata": {},
   "outputs": [
    {
     "name": "stdout",
     "output_type": "stream",
     "text": [
      "   A  B\n",
      "0  1  5\n",
      "1  0  6\n",
      "2  3 -7\n",
      "3  0  8\n"
     ]
    }
   ],
   "source": [
    "#25. Write a function that takes a Pandas DataFrame and replaces all negative values in a specific column with zeros. \n",
    "#Use NumPy operations within the Pandas DataFrame.\n",
    "import pandas as pd\n",
    "import numpy as np\n",
    "\n",
    "def replace_negatives(df, column_name):\n",
    "    df[column_name] = np.where(df[column_name] < 0, 0, df[column_name])\n",
    "    return df\n",
    "\n",
    "# Example usage\n",
    "data = {'A': [1, -2, 3, -4], 'B': [5, 6, -7, 8]}\n",
    "df = pd.DataFrame(data)\n",
    "print(replace_negatives(df, 'A'))\n"
   ]
  },
  {
   "cell_type": "code",
   "execution_count": 25,
   "id": "053403a4",
   "metadata": {},
   "outputs": [
    {
     "name": "stdout",
     "output_type": "stream",
     "text": [
      "3\n"
     ]
    }
   ],
   "source": [
    "#26. Access the 3rd element from the given NumPy array.\n",
    "arr = np.array([1, 2, 3, 4, 5])\n",
    "third_element = arr[2]\n",
    "print(third_element)\n"
   ]
  },
  {
   "cell_type": "code",
   "execution_count": 26,
   "id": "2bfb1dfe",
   "metadata": {},
   "outputs": [
    {
     "name": "stdout",
     "output_type": "stream",
     "text": [
      "6\n"
     ]
    }
   ],
   "source": [
    "#27. Retrieve the element at index (1, 2) from the 2D NumPy array.\n",
    "arr_2d = np.array([[1, 2, 3], [4, 5, 6], [7, 8, 9]])\n",
    "element = arr_2d[1, 2]\n",
    "print(element)\n"
   ]
  },
  {
   "cell_type": "code",
   "execution_count": 27,
   "id": "7e221d70",
   "metadata": {},
   "outputs": [
    {
     "name": "stdout",
     "output_type": "stream",
     "text": [
      "[ 8 10  7]\n"
     ]
    }
   ],
   "source": [
    "#28 . Using boolean indexing, extract elements greater than 5 from the given NumPy array.\n",
    "arr = np.array([3, 8, 2, 10, 5, 7])\n",
    "filtered_elements = arr[arr > 5]\n",
    "print(filtered_elements)\n"
   ]
  },
  {
   "cell_type": "code",
   "execution_count": 30,
   "id": "21ae16fb",
   "metadata": {},
   "outputs": [
    {
     "name": "stdout",
     "output_type": "stream",
     "text": [
      "[3 4 5 6]\n"
     ]
    }
   ],
   "source": [
    "#29. Perform basic slicing to extract elements from index 2 to 5 (inclusive) from the given NumPy array.\n",
    "arr = np.array([1,2,3,4,5,6,7,8,9])\n",
    "sliced_array = arr[2:6]\n",
    "print(sliced_array)\n"
   ]
  },
  {
   "cell_type": "code",
   "execution_count": 29,
   "id": "b5a606fe",
   "metadata": {},
   "outputs": [
    {
     "name": "stdout",
     "output_type": "stream",
     "text": [
      "[[2 3]\n",
      " [5 6]]\n"
     ]
    }
   ],
   "source": [
    "#30. Slice the 2D NumPy array to extract the sub-array [[2, 3], [5, 6]] from the given array.\n",
    "arr_2d = np.array([[1, 2, 3], [4, 5, 6], [7, 8, 9]])\n",
    "sub_array = arr_2d[0:2, 1:3]\n",
    "print(sub_array)\n"
   ]
  },
  {
   "cell_type": "code",
   "execution_count": 31,
   "id": "ce733fd4",
   "metadata": {},
   "outputs": [
    {
     "name": "stdout",
     "output_type": "stream",
     "text": [
      "[[1 2 3]\n",
      " [7 8 9]]\n"
     ]
    }
   ],
   "source": [
    "#31. Write a NumPy function to extract elements in specific order from a given 2D array based on indices provided in another array.\n",
    "def extract_elements(arr, indices):\n",
    "    return arr[indices]\n",
    "\n",
    "arr_2d = np.array([[1, 2, 3], [4, 5, 6], [7, 8, 9]])\n",
    "indices = np.array([0, 2])\n",
    "print(extract_elements(arr_2d, indices))\n"
   ]
  },
  {
   "cell_type": "code",
   "execution_count": 32,
   "id": "cae6820e",
   "metadata": {},
   "outputs": [
    {
     "name": "stdout",
     "output_type": "stream",
     "text": [
      "[ 8 10  7]\n"
     ]
    }
   ],
   "source": [
    "#32. Create a NumPy function that filters elements greater than a threshold from a given 1D array using boolean indexing.\n",
    "def filter_elements(arr, threshold):\n",
    "    return arr[arr > threshold]\n",
    "\n",
    "arr = np.array([3, 8, 2, 10, 5, 7])\n",
    "print(filter_elements(arr, 5))\n"
   ]
  },
  {
   "cell_type": "code",
   "execution_count": 33,
   "id": "ad018aa2",
   "metadata": {},
   "outputs": [
    {
     "name": "stdout",
     "output_type": "stream",
     "text": [
      "[2 7]\n"
     ]
    }
   ],
   "source": [
    "#33. Develop a NumPy function that extracts specific elements from a 3D array using indices provided in three separate arrays for each dimension\n",
    "def extract_from_3d(arr, idx1, idx2, idx3):\n",
    "    return arr[idx1, idx2, idx3]\n",
    "\n",
    "arr_3d = np.array([[[1, 2], [3, 4]], [[5, 6], [7, 8]]])\n",
    "idx1 = np.array([0, 1])\n",
    "idx2 = np.array([0, 1])\n",
    "idx3 = np.array([1, 0])\n",
    "print(extract_from_3d(arr_3d, idx1, idx2, idx3))\n"
   ]
  },
  {
   "cell_type": "code",
   "execution_count": 34,
   "id": "d7225938",
   "metadata": {},
   "outputs": [
    {
     "name": "stdout",
     "output_type": "stream",
     "text": [
      "[8 5 7]\n"
     ]
    }
   ],
   "source": [
    "#34. Write a NumPy function that returns elements from an array where two conditions are satisfied using boolean indexing.\n",
    "def filter_two_conditions(arr, cond1, cond2):\n",
    "    return arr[(arr > cond1) & (arr < cond2)]\n",
    "\n",
    "arr = np.array([3, 8, 2, 10, 5, 7])\n",
    "print(filter_two_conditions(arr, 4, 9))\n"
   ]
  },
  {
   "cell_type": "code",
   "execution_count": 35,
   "id": "a1e22002",
   "metadata": {},
   "outputs": [
    {
     "name": "stdout",
     "output_type": "stream",
     "text": [
      "[3 5 7]\n"
     ]
    }
   ],
   "source": [
    "#35 Create a NumPy function that extracts elements from a 2D array using row and column indices provided in separate arrays\n",
    "def extract_using_indices(arr, row_indices, col_indices):\n",
    "    return arr[row_indices, col_indices]\n",
    "\n",
    "arr_2d = np.array([[1, 2, 3], [4, 5, 6], [7, 8, 9]])\n",
    "row_indices = np.array([0, 1, 2])\n",
    "col_indices = np.array([2, 1, 0])\n",
    "print(extract_using_indices(arr_2d, row_indices, col_indices))\n"
   ]
  },
  {
   "cell_type": "code",
   "execution_count": 36,
   "id": "5e6687a0",
   "metadata": {},
   "outputs": [
    {
     "name": "stdout",
     "output_type": "stream",
     "text": [
      "[[ 6  7  8]\n",
      " [ 9 10 11]\n",
      " [12 13 14]]\n"
     ]
    }
   ],
   "source": [
    "#36 Given an array arr of shape (3, 3), add a scalar value of 5 to each element using NumPy broadcasting.\n",
    "arr = np.array([[1, 2, 3], [4, 5, 6], [7, 8, 9]])\n",
    "arr += 5\n",
    "print(arr)\n"
   ]
  },
  {
   "cell_type": "code",
   "execution_count": 37,
   "id": "fb1a4777",
   "metadata": {},
   "outputs": [
    {
     "name": "stdout",
     "output_type": "stream",
     "text": [
      "[[ 4  5  6  7]\n",
      " [16 18 20 22]\n",
      " [36 39 42 45]]\n"
     ]
    }
   ],
   "source": [
    "#37. Consider two arrays arr1 of shape (1, 3) and arr2 of shape (3, 4). Multiply each row of arr2 by the corresponding element in arr1 using NumPy broadcasting.\n",
    "arr1 = np.array([[1, 2, 3]])\n",
    "arr2 = np.array([[4, 5, 6, 7], [8, 9, 10, 11], [12, 13, 14, 15]])\n",
    "\n",
    "result = arr2 * arr1.T\n",
    "print(result)\n"
   ]
  },
  {
   "cell_type": "code",
   "execution_count": 38,
   "id": "38fff940",
   "metadata": {},
   "outputs": [
    {
     "name": "stdout",
     "output_type": "stream",
     "text": [
      "[[ 6  7  8]\n",
      " [10 11 12]\n",
      " [14 15 16]\n",
      " [18 19 20]]\n"
     ]
    }
   ],
   "source": [
    "#38. Given a 1D array arr1 of shape (1, 4) and a 2D array arr2 of shape (4, 3), add arr1 to each row of arr2 using NumPy broadcasting.\n",
    "arr1 = np.array([1, 2, 3, 4])\n",
    "arr2 = np.array([[5, 6, 7], [8, 9, 10], [11, 12, 13], [14, 15, 16]])\n",
    "\n",
    "result = arr2 + arr1.reshape(-1, 1)\n",
    "print(result)\n"
   ]
  },
  {
   "cell_type": "code",
   "execution_count": 39,
   "id": "12784b85",
   "metadata": {},
   "outputs": [
    {
     "name": "stdout",
     "output_type": "stream",
     "text": [
      "[[5 6 7]\n",
      " [6 7 8]\n",
      " [7 8 9]]\n"
     ]
    }
   ],
   "source": [
    "#39 39. Consider two arrays arr1 of shape (3, 1) and arr2 of shape (1, 3). Add these arrays using NumPy broadcasting.\n",
    "arr1 = np.array([[1], [2], [3]])\n",
    "arr2 = np.array([[4, 5, 6]])\n",
    "\n",
    "result = arr1 + arr2\n",
    "print(result)\n"
   ]
  },
  {
   "cell_type": "code",
   "execution_count": 40,
   "id": "499b7e49",
   "metadata": {},
   "outputs": [
    {
     "name": "stdout",
     "output_type": "stream",
     "text": [
      "[[ 7. 16.  0.]\n",
      " [36. 50.  0.]]\n"
     ]
    }
   ],
   "source": [
    "#40. Given arrays arr1 of shape (2, 3) and arr2 of shape (2, 2), perform multiplication using NumPy broadcasting. Handle the shape incompatibility.\n",
    "arr1 = np.array([[1, 2, 3], [4, 5, 6]])\n",
    "arr2 = np.array([[7, 8], [9, 10]])\n",
    "\n",
    "# Broadcasting not possible directly, so we modify shapes if needed\n",
    "arr2_broadcast = np.hstack((arr2, np.zeros((2, 1))))\n",
    "result = arr1 * arr2_broadcast\n",
    "\n",
    "print(result)\n"
   ]
  },
  {
   "cell_type": "code",
   "execution_count": 41,
   "id": "1ba9ec4b",
   "metadata": {},
   "outputs": [
    {
     "name": "stdout",
     "output_type": "stream",
     "text": [
      "[4. 5. 6.]\n"
     ]
    }
   ],
   "source": [
    "#41. Calculate column-wise mean for the given array.\n",
    "arr = np.array([[1, 2, 3], [4, 5, 6], [7, 8, 9]])\n",
    "column_mean = np.mean(arr, axis=0)\n",
    "print(column_mean)\n"
   ]
  },
  {
   "cell_type": "code",
   "execution_count": 42,
   "id": "db727b95",
   "metadata": {},
   "outputs": [
    {
     "name": "stdout",
     "output_type": "stream",
     "text": [
      "[3 6 9]\n"
     ]
    }
   ],
   "source": [
    "#42. Find the maximum value in each row of the given array.\n",
    "row_max = np.max(arr, axis=1)\n",
    "print(row_max)\n"
   ]
  },
  {
   "cell_type": "code",
   "execution_count": 43,
   "id": "5ed109b7",
   "metadata": {},
   "outputs": [
    {
     "name": "stdout",
     "output_type": "stream",
     "text": [
      "[2 2 2]\n"
     ]
    }
   ],
   "source": [
    "#43. For the given array, find indices of maximum value in each column.\n",
    "col_max_indices = np.argmax(arr, axis=0)\n",
    "print(col_max_indices)\n"
   ]
  },
  {
   "cell_type": "code",
   "execution_count": 44,
   "id": "ebf09420",
   "metadata": {},
   "outputs": [
    {
     "name": "stdout",
     "output_type": "stream",
     "text": [
      "[[ 1  3  6]\n",
      " [ 4  9 15]]\n"
     ]
    }
   ],
   "source": [
    "#44. For the given array, apply a custom function to calculate moving sum along rows.\n",
    "def moving_sum(arr):\n",
    "    return np.cumsum(arr, axis=1)\n",
    "\n",
    "arr = np.array([[1, 2, 3], [4, 5, 6]])\n",
    "print(moving_sum(arr))\n"
   ]
  },
  {
   "cell_type": "code",
   "execution_count": 45,
   "id": "6b4114ca",
   "metadata": {},
   "outputs": [
    {
     "name": "stdout",
     "output_type": "stream",
     "text": [
      "[False False False]\n"
     ]
    }
   ],
   "source": [
    "#45. In the given array, check if all elements in each column are even.\n",
    "arr = np.array([[2, 4, 6], [3, 5, 7]])\n",
    "is_even = np.all(arr % 2 == 0, axis=0)\n",
    "print(is_even)\n"
   ]
  },
  {
   "cell_type": "code",
   "execution_count": 46,
   "id": "29e96c37",
   "metadata": {},
   "outputs": [
    {
     "name": "stdout",
     "output_type": "stream",
     "text": [
      "[[1 2 3]\n",
      " [4 5 6]]\n"
     ]
    }
   ],
   "source": [
    "#46. Given a NumPy array arr, reshape it into a matrix of dimensions m rows and n columns. Return the reshaped matrix.\n",
    "def reshape_array(arr, m, n):\n",
    "    return arr.reshape(m, n)\n",
    "\n",
    "arr = np.array([1, 2, 3, 4, 5, 6])\n",
    "reshaped_matrix = reshape_array(arr, 2, 3)\n",
    "print(reshaped_matrix)\n"
   ]
  },
  {
   "cell_type": "code",
   "execution_count": 47,
   "id": "b34b4718",
   "metadata": {},
   "outputs": [
    {
     "name": "stdout",
     "output_type": "stream",
     "text": [
      "[1 2 3 4]\n"
     ]
    }
   ],
   "source": [
    "#47. Create a function that takes a matrix as input and returns the flattened array.\n",
    "def flatten_matrix(matrix):\n",
    "    return matrix.flatten()\n",
    "\n",
    "matrix = np.array([[1, 2], [3, 4]])\n",
    "flattened = flatten_matrix(matrix)\n",
    "print(flattened)\n"
   ]
  },
  {
   "cell_type": "code",
   "execution_count": 48,
   "id": "577ecd81",
   "metadata": {},
   "outputs": [
    {
     "name": "stdout",
     "output_type": "stream",
     "text": [
      "[[1 2 5 6]\n",
      " [3 4 7 8]]\n"
     ]
    }
   ],
   "source": [
    "#48. Write a function that concatenates two given arrays along a specified axis.\n",
    "def concatenate_arrays(arr1, arr2, axis=0):\n",
    "    return np.concatenate((arr1, arr2), axis=axis)\n",
    "\n",
    "arr1 = np.array([[1, 2], [3, 4]])\n",
    "arr2 = np.array([[5, 6], [7, 8]])\n",
    "\n",
    "result = concatenate_arrays(arr1, arr2, axis=1)\n",
    "print(result)\n"
   ]
  },
  {
   "cell_type": "code",
   "execution_count": 49,
   "id": "04ff8fdb",
   "metadata": {},
   "outputs": [
    {
     "name": "stdout",
     "output_type": "stream",
     "text": [
      "[array([[1, 2],\n",
      "       [5, 6]]), array([[3, 4],\n",
      "       [7, 8]])]\n"
     ]
    }
   ],
   "source": [
    "#49 . Create a function that splits an array into multiple sub-arrays along a specified axis.\n",
    "def split_array(arr, indices_or_sections, axis=0):\n",
    "    return np.split(arr, indices_or_sections, axis=axis)\n",
    "\n",
    "arr = np.array([[1, 2, 3, 4], [5, 6, 7, 8]])\n",
    "split_result = split_array(arr, 2, axis=1)\n",
    "print(split_result)\n"
   ]
  },
  {
   "cell_type": "code",
   "execution_count": 50,
   "id": "24c57306",
   "metadata": {},
   "outputs": [
    {
     "name": "stdout",
     "output_type": "stream",
     "text": [
      "[ 1 10  4 11  5]\n"
     ]
    }
   ],
   "source": [
    "#50. Write a function that inserts and then deletes elements from a given array at specified indices\n",
    "def insert_delete_elements(arr, insert_indices, insert_values, delete_indices):\n",
    "    arr = np.insert(arr, insert_indices, insert_values)\n",
    "    arr = np.delete(arr, delete_indices)\n",
    "    return arr\n",
    "\n",
    "arr = np.array([1, 2, 3, 4, 5])\n",
    "inserted_deleted = insert_delete_elements(arr, [2, 4], [10, 11], [1, 3])\n",
    "print(inserted_deleted)\n"
   ]
  },
  {
   "cell_type": "code",
   "execution_count": 51,
   "id": "6c531530",
   "metadata": {},
   "outputs": [
    {
     "name": "stdout",
     "output_type": "stream",
     "text": [
      "[ 4  6 11  8  7 15 16 12 11 19]\n"
     ]
    }
   ],
   "source": [
    "#51. Create a NumPy array arr1 with random integers and another array arr2 with integers from 1 to 10. Perform element-wise addition between arr1 and arr2.\n",
    "arr1 = np.random.randint(1, 11, size=10)\n",
    "arr2 = np.arange(1, 11)\n",
    "result = arr1 + arr2\n",
    "print(result)\n"
   ]
  },
  {
   "cell_type": "code",
   "execution_count": 52,
   "id": "bafeaa1b",
   "metadata": {},
   "outputs": [
    {
     "name": "stdout",
     "output_type": "stream",
     "text": [
      "[ 9  7  5  3  1 -1 -3 -5 -7 -9]\n"
     ]
    }
   ],
   "source": [
    "#52. Generate a NumPy array arr1 with sequential integers from 10 to 1 and another array arr2 with integers from 1 to 10. Subtract arr2 from arr1 element-wise.\n",
    "arr1 = np.arange(10, 0, -1)\n",
    "arr2 = np.arange(1, 11)\n",
    "result = arr1 - arr2\n",
    "print(result)\n"
   ]
  },
  {
   "cell_type": "code",
   "execution_count": 53,
   "id": "01d83384",
   "metadata": {},
   "outputs": [
    {
     "name": "stdout",
     "output_type": "stream",
     "text": [
      "[ 6 14 15 32 20]\n"
     ]
    }
   ],
   "source": [
    "#53. Create a NumPy array arr1 with random integers and another array arr2 with integers from 1 to 5. Perform element-wise multiplication between arr1 and arr2.\n",
    "arr1 = np.random.randint(1, 10, size=5)\n",
    "arr2 = np.arange(1, 6)\n",
    "result = arr1 * arr2\n",
    "print(result)\n"
   ]
  },
  {
   "cell_type": "code",
   "execution_count": 54,
   "id": "a478b2c8",
   "metadata": {},
   "outputs": [
    {
     "name": "stdout",
     "output_type": "stream",
     "text": [
      "[2. 2. 2. 2. 2.]\n"
     ]
    }
   ],
   "source": [
    "#54. Generate a NumPy array arr1 with even integers from 2 to 10 and another array arr2 with integers from 1 to 5. Perform element-wise division of arr1 by arr2.\n",
    "arr1 = np.arange(2, 11, 2)\n",
    "arr2 = np.arange(1, 6)\n",
    "result = arr1 / arr2\n",
    "print(result)\n"
   ]
  },
  {
   "cell_type": "code",
   "execution_count": 55,
   "id": "d84ef350",
   "metadata": {},
   "outputs": [
    {
     "name": "stdout",
     "output_type": "stream",
     "text": [
      "[ 1 16 27 16  5]\n"
     ]
    }
   ],
   "source": [
    "#55. Create a NumPy array arr1 with integers from 1 to 5 and another array arr2 with the same numbers reversed. Calculate the exponentiation of arr1 raised to the power of arr2 element-wise.\n",
    "arr1 = np.arange(1, 6)\n",
    "arr2 = arr1[::-1]\n",
    "result = arr1 ** arr2\n",
    "print(result)\n"
   ]
  },
  {
   "cell_type": "code",
   "execution_count": 56,
   "id": "f61a3ae8",
   "metadata": {},
   "outputs": [
    {
     "name": "stdout",
     "output_type": "stream",
     "text": [
      "[1 0 1 0]\n"
     ]
    }
   ],
   "source": [
    "#56. Write a function that counts the occurrences of a specific substring within a NumPy array of strings.\n",
    "def count_substring(arr, substring):\n",
    "    return np.char.count(arr, substring)\n",
    "\n",
    "arr = np.array(['apple', 'banana', 'apple', 'grape'])\n",
    "substring_count = count_substring(arr, 'apple')\n",
    "print(substring_count)\n"
   ]
  },
  {
   "cell_type": "code",
   "execution_count": 57,
   "id": "6e840621",
   "metadata": {},
   "outputs": [
    {
     "name": "stdout",
     "output_type": "stream",
     "text": [
      "[-1 -1 -1]\n"
     ]
    }
   ],
   "source": [
    "#57. Write a function that extracts uppercase characters from a NumPy array of strings.\n",
    "def extract_uppercase(arr):\n",
    "    return np.char.find(arr, np.char.upper(arr))\n",
    "\n",
    "arr = np.array(['Hello', 'World', 'OpenAI'])\n",
    "uppercase = extract_uppercase(arr)\n",
    "print(uppercase)\n"
   ]
  },
  {
   "cell_type": "code",
   "execution_count": null,
   "id": "8c05444f",
   "metadata": {},
   "outputs": [],
   "source": [
    "#58. Write a function that replaces occurrences of a substring in a NumPy array of strings with a new string.\n",
    "def replace_substring(arr, old, new):\n",
    "    return np.char.replace(arr, old, new)\n",
    "\n",
    "arr = np.array(['apple', 'banana', 'grape'])\n",
    "replaced = replace_substring(arr, 'apple', 'orange')\n",
    "print(replaced)\n"
   ]
  },
  {
   "cell_type": "code",
   "execution_count": 59,
   "id": "7a42a11a",
   "metadata": {},
   "outputs": [
    {
     "name": "stdout",
     "output_type": "stream",
     "text": [
      "['Hello World' 'Open asd']\n"
     ]
    }
   ],
   "source": [
    "#59. Write a function that concatenates strings in a NumPy array element-wise.\n",
    "def concatenate_strings(arr1, arr2):\n",
    "    return np.char.add(arr1, arr2)\n",
    "\n",
    "arr1 = np.array(['Hello', 'Open'])\n",
    "arr2 = np.array([' World', ' asd'])\n",
    "concatenated = concatenate_strings(arr1, arr2)\n",
    "print(concatenated)\n"
   ]
  },
  {
   "cell_type": "code",
   "execution_count": 60,
   "id": "5f9642fb",
   "metadata": {},
   "outputs": [
    {
     "name": "stdout",
     "output_type": "stream",
     "text": [
      "9\n"
     ]
    }
   ],
   "source": [
    "#60. Write a function that finds the length of the longest string in a NumPy array.\n",
    "def longest_string_length(arr):\n",
    "    return np.max(np.char.str_len(arr))\n",
    "\n",
    "arr = np.array(['apple', 'banana', 'pineapple'])\n",
    "max_length = longest_string_length(arr)\n",
    "print(max_length)\n"
   ]
  },
  {
   "cell_type": "code",
   "execution_count": 61,
   "id": "031f7e7b",
   "metadata": {},
   "outputs": [
    {
     "name": "stdout",
     "output_type": "stream",
     "text": [
      "Mean: 505.21, Median: 489.0, Variance: 75904.46590000001, Standard Deviation: 275.5076512549153\n"
     ]
    }
   ],
   "source": [
    "#61. Create a dataset of 100 random integers between 1 and 1000. Compute the mean, median, variance, and standard deviation of the dataset using NumPy's functions.\n",
    "arr = np.random.randint(1, 1001, size=100)\n",
    "mean = np.mean(arr)\n",
    "median = np.median(arr)\n",
    "variance = np.var(arr)\n",
    "std_dev = np.std(arr)\n",
    "\n",
    "print(f\"Mean: {mean}, Median: {median}, Variance: {variance}, Standard Deviation: {std_dev}\")\n"
   ]
  },
  {
   "cell_type": "code",
   "execution_count": 62,
   "id": "95edb594",
   "metadata": {},
   "outputs": [
    {
     "name": "stdout",
     "output_type": "stream",
     "text": [
      "25th percentile: 24.0, 75th percentile: 71.75\n"
     ]
    }
   ],
   "source": [
    "#62. Generate an array of 50 random numbers between 1 and 100. Find the 25th and 75th percentiles of the dataset.\n",
    "arr = np.random.randint(1, 101, size=50)\n",
    "percentile_25 = np.percentile(arr, 25)\n",
    "percentile_75 = np.percentile(arr, 75)\n",
    "\n",
    "print(f\"25th percentile: {percentile_25}, 75th percentile: {percentile_75}\")\n"
   ]
  },
  {
   "cell_type": "code",
   "execution_count": 63,
   "id": "cc9f2711",
   "metadata": {},
   "outputs": [
    {
     "name": "stdout",
     "output_type": "stream",
     "text": [
      "[[ 1.         -0.25186392]\n",
      " [-0.25186392  1.        ]]\n"
     ]
    }
   ],
   "source": [
    "#63. Create two arrays representing two sets of variables. Compute the correlation coefficient between these arrays using NumPy's corrcoef function.\n",
    "\n",
    "arr1 = np.random.randint(1, 100, size=50)\n",
    "arr2 = np.random.randint(1, 100, size=50)\n",
    "correlation = np.corrcoef(arr1, arr2)\n",
    "\n",
    "print(correlation)\n"
   ]
  },
  {
   "cell_type": "code",
   "execution_count": 64,
   "id": "5689b1c3",
   "metadata": {},
   "outputs": [
    {
     "name": "stdout",
     "output_type": "stream",
     "text": [
      "[[92 93 48]\n",
      " [16 19  9]\n",
      " [56 60 30]]\n"
     ]
    }
   ],
   "source": [
    "#64. Create two matrices and perform matrix multiplication using NumPy's dot function.\n",
    "matrix1 = np.random.randint(1, 10, size=(3, 2))\n",
    "matrix2 = np.random.randint(1, 10, size=(2, 3))\n",
    "result = np.dot(matrix1, matrix2)\n",
    "\n",
    "print(result)\n"
   ]
  },
  {
   "cell_type": "code",
   "execution_count": null,
   "id": "04b8d7a5",
   "metadata": {},
   "outputs": [],
   "source": [
    "#65. Create an array of 50 integers between 10 and 1000. Calculate the 10th, 50th (median), and 90th percentiles along with the first and third quartiles.\n",
    "arr = np.random.randint(10, 1001, size=50)\n",
    "percentile_10 = np.percentile(arr, 10)\n",
    "percentile_50 = np.percentile(arr, 50)\n",
    "percentile_90 = np.percentile(arr, 90)\n",
    "q1 = np.percentile(arr, 25)\n",
    "q3 = np.percentile(arr, 75)\n",
    "\n",
    "print(f\"10th: {percentile_10}, 50th (Median): {percentile_50}, 90th: {percentile_90}, Q1: {q1}, Q3: {q3}\")\n"
   ]
  },
  {
   "cell_type": "code",
   "execution_count": 65,
   "id": "5ae94f97",
   "metadata": {},
   "outputs": [
    {
     "name": "stdout",
     "output_type": "stream",
     "text": [
      "(array([2], dtype=int64),)\n"
     ]
    }
   ],
   "source": [
    "#66. Create a NumPy array of integers and find the index of a specific element.\n",
    "arr = np.array([10, 20, 30, 40, 50])\n",
    "index = np.where(arr == 30)\n",
    "\n",
    "print(index)\n"
   ]
  },
  {
   "cell_type": "code",
   "execution_count": 66,
   "id": "8a7816c4",
   "metadata": {},
   "outputs": [
    {
     "name": "stdout",
     "output_type": "stream",
     "text": [
      "[ 7 20 21 25 33 35 70 75 86 99]\n"
     ]
    }
   ],
   "source": [
    "#67. Generate a random NumPy array and sort it in ascending order.\n",
    "arr = np.random.randint(1, 101, size=10)\n",
    "sorted_arr = np.sort(arr)\n",
    "\n",
    "print(sorted_arr)\n"
   ]
  },
  {
   "cell_type": "code",
   "execution_count": 67,
   "id": "47f64f03",
   "metadata": {},
   "outputs": [
    {
     "name": "stdout",
     "output_type": "stream",
     "text": [
      "[25 30 50]\n"
     ]
    }
   ],
   "source": [
    "#68. Filter elements >20 in the given NumPy array.\n",
    "arr = np.array([5, 25, 15, 30, 50, 10])\n",
    "filtered = arr[arr > 20]\n",
    "\n",
    "print(filtered)\n"
   ]
  },
  {
   "cell_type": "code",
   "execution_count": 68,
   "id": "253b0750",
   "metadata": {},
   "outputs": [
    {
     "name": "stdout",
     "output_type": "stream",
     "text": [
      "[ 3 12 15]\n"
     ]
    }
   ],
   "source": [
    "#69. Filter elements which are divisible by 3 from a given NumPy array.\n",
    "arr = np.array([3, 8, 12, 15, 20])\n",
    "filtered = arr[arr % 3 == 0]\n",
    "\n",
    "print(filtered)\n"
   ]
  },
  {
   "cell_type": "code",
   "execution_count": 69,
   "id": "83b7d206",
   "metadata": {},
   "outputs": [
    {
     "name": "stdout",
     "output_type": "stream",
     "text": [
      "[20 30 40]\n"
     ]
    }
   ],
   "source": [
    "#70. Filter elements which are ≥ 20 and ≤ 40 from a given NumPy array.\n",
    "arr = np.array([10, 20, 30, 40, 50])\n",
    "filtered = arr[(arr >= 20) & (arr <= 40)]\n",
    "\n",
    "print(filtered)\n"
   ]
  },
  {
   "cell_type": "code",
   "execution_count": 70,
   "id": "dc7accd3",
   "metadata": {},
   "outputs": [
    {
     "name": "stdout",
     "output_type": "stream",
     "text": [
      "=\n"
     ]
    }
   ],
   "source": [
    "#71. For the given NumPy array, check its byte order using the dtype attribute byteorder.\n",
    "arr = np.array([1, 2, 3], dtype=np.int32)\n",
    "byte_order = arr.dtype.byteorder\n",
    "\n",
    "print(byte_order)\n",
    "\n"
   ]
  },
  {
   "cell_type": "code",
   "execution_count": 71,
   "id": "2d8acf1b",
   "metadata": {},
   "outputs": [
    {
     "name": "stdout",
     "output_type": "stream",
     "text": [
      "[16777216    65536      256]\n"
     ]
    }
   ],
   "source": [
    "#72. For the given NumPy array, perform byte swapping in place using byteswap().\n",
    "arr = np.array([1, 256, 65536], dtype=np.int32)\n",
    "arr.byteswap(inplace=True)\n",
    "\n",
    "print(arr)\n"
   ]
  },
  {
   "cell_type": "code",
   "execution_count": 72,
   "id": "dac83ed9",
   "metadata": {},
   "outputs": [
    {
     "name": "stdout",
     "output_type": "stream",
     "text": [
      "[16777216    65536      256]\n"
     ]
    }
   ],
   "source": [
    "#73. For the given NumPy array, swap its byte order without modifying the original array using newbyteorder().\n",
    "arr = np.array([1, 256, 65536], dtype=np.int32)\n",
    "swapped_arr = arr.newbyteorder()\n",
    "\n",
    "print(swapped_arr)\n"
   ]
  },
  {
   "cell_type": "code",
   "execution_count": 73,
   "id": "c2e03c98",
   "metadata": {},
   "outputs": [
    {
     "name": "stdout",
     "output_type": "stream",
     "text": [
      "[16777216    65536      256]\n"
     ]
    }
   ],
   "source": [
    "#74  For the given NumPy array, swap its byte order conditionally based on system endianness using newbyteorder().\n",
    "arr = np.array([1, 256, 65536], dtype=np.int32)\n",
    "if arr.dtype.byteorder == '=':  # Native endianness\n",
    "    swapped_arr = arr.newbyteorder()\n",
    "\n",
    "print(swapped_arr)\n"
   ]
  },
  {
   "cell_type": "code",
   "execution_count": 74,
   "id": "ce15cfff",
   "metadata": {},
   "outputs": [
    {
     "name": "stdout",
     "output_type": "stream",
     "text": [
      "False\n"
     ]
    }
   ],
   "source": [
    "#75. For the given NumPy array, check if byte swapping is necessary for the current system using dtype attribute byteorder.\n",
    "arr = np.array([1, 256, 65536], dtype=np.int32)\n",
    "is_swap_needed = arr.dtype.byteorder != '='\n",
    "\n",
    "print(is_swap_needed)\n"
   ]
  },
  {
   "cell_type": "code",
   "execution_count": null,
   "id": "739ecf2b",
   "metadata": {},
   "outputs": [],
   "source": [
    "#76. Create a NumPy array arr1 with values from 1 to 10. Create a copy of arr1 named copy_arr and modify an element in copy_arr. Check if modifying copy_arr affects arr1.\n",
    "arr1 = np.arange(1, 11)\n",
    "copy_arr = arr1.copy()\n",
    "copy_arr[0] = 100\n",
    "\n",
    "print(arr1)  # Original array\n",
    "print(copy_arr)  # Modified copy\n"
   ]
  },
  {
   "cell_type": "code",
   "execution_count": 75,
   "id": "902993a4",
   "metadata": {},
   "outputs": [
    {
     "name": "stdout",
     "output_type": "stream",
     "text": [
      "[[100   6   5]\n",
      " [  7   3   6]\n",
      " [  1   8   9]]\n"
     ]
    }
   ],
   "source": [
    "#77. Create a 2D NumPy array matrix of shape (3, 3) with random integers. Extract a slice view_slice from the matrix. Modify an element in view_slice and observe if it changes the original matrix.\n",
    "matrix = np.random.randint(1, 10, size=(3, 3))\n",
    "view_slice = matrix[0:2, 0:2]\n",
    "view_slice[0, 0] = 100\n",
    "\n",
    "print(matrix)  # The original matrix will be modified\n"
   ]
  },
  {
   "cell_type": "code",
   "execution_count": 76,
   "id": "fcaaf671",
   "metadata": {},
   "outputs": [
    {
     "name": "stdout",
     "output_type": "stream",
     "text": [
      "[[ 6  7  8]\n",
      " [ 9 10 11]\n",
      " [ 7  8  9]\n",
      " [10 11 12]]\n"
     ]
    }
   ],
   "source": [
    "#78. Create a NumPy array array_a of shape (4, 3) with sequential integers from 1 to 12. Extract a slice view_b from array_a and broadcast the addition of 5 to view_b. Check if it alters the original array_a.\n",
    "array_a = np.arange(1, 13).reshape(4, 3)\n",
    "view_b = array_a[0:2, :]\n",
    "view_b += 5\n",
    "\n",
    "print(array_a)  # The original array will be modified\n"
   ]
  },
  {
   "cell_type": "code",
   "execution_count": 77,
   "id": "880c47f0",
   "metadata": {},
   "outputs": [
    {
     "name": "stdout",
     "output_type": "stream",
     "text": [
      "[[100   2   3   4]\n",
      " [  5   6   7   8]]\n"
     ]
    }
   ],
   "source": [
    "#79. Create a NumPy array orig_array of shape (2, 4) with values from 1 to 8. Create a reshaped view reshaped_view of shape (4, 2) from orig_array. Modify an element in reshaped_view and check if it reflects changes in the original orig_array.\n",
    "orig_array = np.arange(1, 9).reshape(2, 4)\n",
    "reshaped_view = orig_array.reshape(4, 2)\n",
    "reshaped_view[0, 0] = 100\n",
    "\n",
    "print(orig_array)  # The original array will be modified\n"
   ]
  },
  {
   "cell_type": "code",
   "execution_count": 78,
   "id": "ea0d712a",
   "metadata": {},
   "outputs": [
    {
     "name": "stdout",
     "output_type": "stream",
     "text": [
      "[[9 2 6 5]\n",
      " [1 9 8 4]\n",
      " [4 4 8 9]]\n"
     ]
    }
   ],
   "source": [
    "#80. Create a NumPy array data of shape (3, 4) with random integers. Extract a copy data_copy of elements greater than 5. Modify an element in data_copy and verify if it affects the original data.\n",
    "data = np.random.randint(1, 10, size=(3, 4))\n",
    "data_copy = data[data > 5].copy()\n",
    "data_copy[0] = 100\n",
    "\n",
    "print(data)  # Original data will remain unchanged\n"
   ]
  },
  {
   "cell_type": "code",
   "execution_count": 80,
   "id": "26b7a3b6",
   "metadata": {},
   "outputs": [
    {
     "name": "stdout",
     "output_type": "stream",
     "text": [
      "Original Data:\n",
      "[[9 3 1 4]\n",
      " [3 8 8 3]\n",
      " [5 9 7 4]]\n",
      "\n",
      "Modified Data Copy:\n",
      "[100   8   8   9   7]\n"
     ]
    }
   ],
   "source": [
    "#80. Create a NumPy array data of shape (3, 4) with random integers. Extract a copy data_copy of elements greater than 5. Modify an element in data_copy and verify if it affects the original data.\n",
    "data = np.random.randint(1, 10, size=(3, 4))\n",
    "data_copy = data[data > 5].copy()  # Create a copy of elements greater than 5\n",
    "data_copy[0] = 100  # Modify an element in the copy\n",
    "\n",
    "print(\"Original Data:\")\n",
    "print(data)  # The original data will remain unchanged\n",
    "print(\"\\nModified Data Copy:\")\n",
    "print(data_copy)  # The modified copy\n"
   ]
  },
  {
   "cell_type": "code",
   "execution_count": 79,
   "id": "4a89aa12",
   "metadata": {},
   "outputs": [
    {
     "name": "stdout",
     "output_type": "stream",
     "text": [
      "Matrix A:\n",
      "[[6 9 9]\n",
      " [9 7 9]\n",
      " [3 5 9]]\n",
      "\n",
      "Matrix B:\n",
      "[[1 3 2]\n",
      " [9 7 4]\n",
      " [7 5 5]]\n",
      "\n",
      "Addition of A and B:\n",
      "[[ 7 12 11]\n",
      " [18 14 13]\n",
      " [10 10 14]]\n",
      "\n",
      "Subtraction of A and B:\n",
      "[[ 5  6  7]\n",
      " [ 0  0  5]\n",
      " [-4  0  4]]\n"
     ]
    }
   ],
   "source": [
    "#81. Create two matrices A and B of identical shape containing integers and perform addition and subtraction operations between the\n",
    "A = np.random.randint(1, 10, size=(3, 3))\n",
    "B = np.random.randint(1, 10, size=(3, 3))\n",
    "\n",
    "addition_result = A + B\n",
    "subtraction_result = A - B\n",
    "\n",
    "print(\"Matrix A:\")\n",
    "print(A)\n",
    "print(\"\\nMatrix B:\")\n",
    "print(B)\n",
    "print(\"\\nAddition of A and B:\")\n",
    "print(addition_result)\n",
    "print(\"\\nSubtraction of A and B:\")\n",
    "print(subtraction_result)\n"
   ]
  },
  {
   "cell_type": "code",
   "execution_count": 81,
   "id": "494aa5fa",
   "metadata": {},
   "outputs": [
    {
     "name": "stdout",
     "output_type": "stream",
     "text": [
      "Matrix C:\n",
      "[[4 6]\n",
      " [8 5]\n",
      " [9 3]]\n",
      "\n",
      "Matrix D:\n",
      "[[3 1 2 3]\n",
      " [3 1 8 8]]\n",
      "\n",
      "Matrix Multiplication Result (C * D):\n",
      "[[30 10 56 60]\n",
      " [39 13 56 64]\n",
      " [36 12 42 51]]\n"
     ]
    }
   ],
   "source": [
    "#82. Generate two matrices C (3x2) and D (2x4) and perform matrix multiplication.\n",
    "C = np.random.randint(1, 10, size=(3, 2))\n",
    "D = np.random.randint(1, 10, size=(2, 4))\n",
    "\n",
    "matrix_multiplication_result = np.dot(C, D)\n",
    "\n",
    "print(\"Matrix C:\")\n",
    "print(C)\n",
    "print(\"\\nMatrix D:\")\n",
    "print(D)\n",
    "print(\"\\nMatrix Multiplication Result (C * D):\")\n",
    "print(matrix_multiplication_result)\n"
   ]
  },
  {
   "cell_type": "code",
   "execution_count": 82,
   "id": "4bd8fddc",
   "metadata": {},
   "outputs": [
    {
     "name": "stdout",
     "output_type": "stream",
     "text": [
      "Matrix E:\n",
      "[[8 6 8]\n",
      " [4 8 4]\n",
      " [4 4 6]]\n",
      "\n",
      "Transpose of Matrix E:\n",
      "[[8 4 4]\n",
      " [6 8 4]\n",
      " [8 4 6]]\n"
     ]
    }
   ],
   "source": [
    "#83. Create a matrix E and find its transpose.\n",
    "E = np.random.randint(1, 10, size=(3, 3))\n",
    "\n",
    "transpose_E = E.T\n",
    "\n",
    "print(\"Matrix E:\")\n",
    "print(E)\n",
    "print(\"\\nTranspose of Matrix E:\")\n",
    "print(transpose_E)\n"
   ]
  },
  {
   "cell_type": "code",
   "execution_count": 83,
   "id": "eac6cbbf",
   "metadata": {},
   "outputs": [
    {
     "name": "stdout",
     "output_type": "stream",
     "text": [
      "Matrix F:\n",
      "[[1 4 8]\n",
      " [6 6 6]\n",
      " [2 6 2]]\n",
      "\n",
      "Determinant of Matrix F:\n",
      "167.99999999999997\n"
     ]
    }
   ],
   "source": [
    "#84. Generate a square matrix F and compute its determinant.\n",
    "F = np.random.randint(1, 10, size=(3, 3))\n",
    "\n",
    "determinant_F = np.linalg.det(F)\n",
    "\n",
    "print(\"Matrix F:\")\n",
    "print(F)\n",
    "print(\"\\nDeterminant of Matrix F:\")\n",
    "print(determinant_F)\n"
   ]
  },
  {
   "cell_type": "code",
   "execution_count": 84,
   "id": "9a4d0cb4",
   "metadata": {},
   "outputs": [
    {
     "name": "stdout",
     "output_type": "stream",
     "text": [
      "Matrix G:\n",
      "[[4 7 8]\n",
      " [9 6 2]\n",
      " [1 5 2]]\n",
      "\n",
      "Inverse of Matrix G:\n",
      "[[ 0.00961538  0.125      -0.16346154]\n",
      " [-0.07692308  0.          0.30769231]\n",
      " [ 0.1875     -0.0625     -0.1875    ]]\n"
     ]
    }
   ],
   "source": [
    "#85. Create a square matrix G and find its inverse.\n",
    "G = np.random.randint(1, 10, size=(3, 3))\n",
    "\n",
    "# Check if the matrix is invertible (determinant is not zero)\n",
    "if np.linalg.det(G) != 0:\n",
    "    inverse_G = np.linalg.inv(G)\n",
    "    print(\"Matrix G:\")\n",
    "    print(G)\n",
    "    print(\"\\nInverse of Matrix G:\")\n",
    "    print(inverse_G)\n",
    "else:\n",
    "    print(\"Matrix G is singular and does not have an inverse.\")\n"
   ]
  },
  {
   "cell_type": "code",
   "execution_count": null,
   "id": "870e77e4",
   "metadata": {},
   "outputs": [],
   "source": []
  },
  {
   "cell_type": "code",
   "execution_count": null,
   "id": "8fab2df7",
   "metadata": {},
   "outputs": [],
   "source": []
  },
  {
   "cell_type": "code",
   "execution_count": null,
   "id": "e34129f1",
   "metadata": {},
   "outputs": [],
   "source": []
  },
  {
   "cell_type": "code",
   "execution_count": null,
   "id": "2cf8e3c4",
   "metadata": {},
   "outputs": [],
   "source": []
  }
 ],
 "metadata": {
  "kernelspec": {
   "display_name": "Python 3 (ipykernel)",
   "language": "python",
   "name": "python3"
  },
  "language_info": {
   "codemirror_mode": {
    "name": "ipython",
    "version": 3
   },
   "file_extension": ".py",
   "mimetype": "text/x-python",
   "name": "python",
   "nbconvert_exporter": "python",
   "pygments_lexer": "ipython3",
   "version": "3.10.9"
  }
 },
 "nbformat": 4,
 "nbformat_minor": 5
}
