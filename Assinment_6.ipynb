{
 "cells": [
  {
   "cell_type": "markdown",
   "id": "e9118ca0",
   "metadata": {},
   "source": [
    " Q1 Why might you choose a deque from the collections module to implement a queue instead of using a \n",
    "\n",
    " regular Python list?"
   ]
  },
  {
   "cell_type": "markdown",
   "id": "ff9bd8df",
   "metadata": {},
   "source": [
    "Choosing a deque (double-ended queue) from the collections module over a regular Python list for implementing a queue offers several advantages, primarily related to performance and functionality:\n",
    "\n",
    "Efficient O(1) Operations:\n",
    "\n",
    "Appending and Popping from Both Ends: The deque provides O(1) time complexity for append and pop operations from both ends. This is because it is optimized for quick insertions and deletions at both the front and the back.\n",
    "Lists: While appending to the end of a list is O(1), inserting or removing elements from the beginning of a list is O(n) because all other elements need to be shifted.\n",
    "Memory Efficiency:\n",
    "\n",
    "Deques: They use a doubly linked list implementation which generally makes them more memory efficient for frequent insertions and deletions.\n",
    "Lists: They use dynamic arrays, which may require resizing and copying of elements, leading to higher memory usage and slower performance when resizing is necessary.\n",
    "Functionality:\n",
    "\n",
    "Deques: They offer methods like appendleft() and popleft() which are not available with lists. These methods make it easy to implement a queue where operations at both ends are common.\n",
    "Built-In Queue Interface:\n",
    "\n",
    "Using a deque makes the intention of using the data structure as a queue more explicit and can make the code easier to read and maintain."
   ]
  },
  {
   "cell_type": "code",
   "execution_count": 2,
   "id": "b1190629",
   "metadata": {},
   "outputs": [
    {
     "data": {
      "text/plain": [
       "'b'"
      ]
     },
     "execution_count": 2,
     "metadata": {},
     "output_type": "execute_result"
    }
   ],
   "source": [
    "from collections import deque\n",
    "\n",
    "queue = deque()\n",
    "queue.append('a')  # O(1)\n",
    "queue.append('b')  # O(1)\n",
    "queue.popleft()    # O(1)\n",
    "queue.appendleft('c')  # O(1)\n",
    "queue.pop()        # O(1)\n",
    "\n",
    "\n",
    "\"list\"\n",
    "\n",
    "queue = []\n",
    "queue.append('a')  # O(1)\n",
    "queue.append('b')  # O(1)\n",
    "queue.pop(0)       # O(n)\n",
    "queue.insert(0, 'c')  # O(n)\n",
    "queue.pop()        # O(1)\n",
    "\n",
    "\n",
    "\n"
   ]
  },
  {
   "cell_type": "code",
   "execution_count": null,
   "id": "22412ef8",
   "metadata": {},
   "outputs": [],
   "source": [
    "q2.  Can you explain a real-world scenario where using a stack would be a more practical choice than a list for \n",
    "\n",
    " data storage and retrieval?"
   ]
  },
  {
   "cell_type": "code",
   "execution_count": 3,
   "id": "0c689354",
   "metadata": {},
   "outputs": [
    {
     "name": "stdout",
     "output_type": "stream",
     "text": [
      "Entering main\n",
      "Exiting main\n",
      "Entering subroutine\n",
      "Exiting subroutine\n"
     ]
    }
   ],
   "source": [
    "'''Scenario: Function Call Management\n",
    "When a function is called, its execution context (variables, instruction pointer, etc.) needs to be stored \n",
    "until the function completes. Once the function completes, the context is removed and control is returned to the previous function. \n",
    "This \"last called, first completed\" pattern is a natural fit for a stack (LIFO - Last In, First Out) data structure.'''\n",
    "\n",
    "# Using a list as a stack for function call management\n",
    "call_stack = []\n",
    "\n",
    "def function_call(func):\n",
    "    call_stack.append(func)  # Push the function context onto the stack\n",
    "    print(f\"Entering {func}\")\n",
    "    # Simulate function execution\n",
    "    call_stack.pop()  # Pop the function context off the stack\n",
    "    print(f\"Exiting {func}\")\n",
    "\n",
    "function_call('main')\n",
    "function_call('subroutine')\n"
   ]
  },
  {
   "cell_type": "markdown",
   "id": "6e2f27f8",
   "metadata": {},
   "source": [
    "q3. What is the primary advantage of using sets in Python, and in what type of problem-solving scenarios are \n",
    "\n",
    " they most useful?"
   ]
  },
  {
   "cell_type": "code",
   "execution_count": 5,
   "id": "c7a6ac0d",
   "metadata": {},
   "outputs": [
    {
     "name": "stdout",
     "output_type": "stream",
     "text": [
      "\n",
      "Found!\n",
      "\n",
      "{'cherry', 'banana'}\n",
      "{'date', 'apple', 'cherry', 'banana'}\n",
      "{'apple'}\n",
      "{'a@example.com', 'b@example.com'}\n"
     ]
    }
   ],
   "source": [
    "'''The primary advantage of using sets in Python is their ability to handle membership tests and ensure uniqueness of elements with high efficiency. Sets are implemented using hash tables, which allows them to \n",
    "offer average O(1) time complexity for common operations like checking membership, adding elements, and removing elements.'''\n",
    "\n",
    "user_ids = set()\n",
    "user_ids.add('user1')\n",
    "user_ids.add('user2')\n",
    "user_ids.add('user1')  # Duplicate, won't be added\n",
    "\n",
    "print()\n",
    "dictionary = {'apple', 'banana', 'cherry'}\n",
    "if 'banana' in dictionary:\n",
    "    print('Found!')\n",
    "    \n",
    "print()\n",
    "set1 = {'apple', 'banana', 'cherry'}\n",
    "set2 = {'banana', 'cherry', 'date'}\n",
    "\n",
    "# Intersection\n",
    "common = set1 & set2  # {'banana', 'cherry'}\n",
    "print(common)\n",
    "# Union\n",
    "all_fruits = set1 | set2  # {'apple', 'banana', 'cherry', 'date'}\n",
    "print(all_fruits)\n",
    "# Difference\n",
    "unique_to_set1 = set1 - set2  # {'apple'}\n",
    "\n",
    "print(unique_to_set1)\n",
    "emails = ['a@example.com', 'b@example.com', 'a@example.com']\n",
    "unique_emails = set(emails)  # {'a@example.com', 'b@example.com'}\n",
    "print(unique_emails)\n",
    "\n",
    "# sets are most useful in scenarios where you need to ensure uniqueness, perform fast membership tests, or use mathematical set operations on collections of data.\n"
   ]
  },
  {
   "cell_type": "markdown",
   "id": "63a57be5",
   "metadata": {},
   "source": [
    "Q4. When might you choose to use an array instead of a list for storing numerical data in Python? What \n",
    "\n",
    " benefits do arrays offer in this context?"
   ]
  },
  {
   "cell_type": "markdown",
   "id": "5664ef06",
   "metadata": {},
   "source": [
    "You might choose to use an array instead of a list for storing numerical data in Python when you need more efficient storage and performance, especially for large datasets or when performing numerical operations.\n",
    "\n",
    "Benefits of Using Arrays:\n",
    "Memory Efficiency:\n",
    "\n",
    "Arrays: Use less memory because they store elements more compactly. They are homogeneous, meaning they store elements of the same data type, which allows for more efficient memory allocation.\n",
    "-->LISTS: Are more flexible, but this flexibility comes with higher memory overhead due to the need to store type information and references for each element.\n",
    "Performance:\n",
    "\n",
    "Arrays: Offer better performance for numerical operations due to their compact memory layout, which can improve cache efficiency and reduce memory access time.\n",
    "-->LISTS: Are slower for numerical computations because they store elements as objects with additional overhead.\n",
    "Array-Specific Methods:\n",
    "\n",
    "Arrays: Provide a range of methods optimized for numerical operations, such as element-wise arithmetic operations, aggregation functions (sum, min, max), and support for multi-dimensional arrays.\n",
    "-->LISTS: Require more complex and less efficient implementations for the same operations"
   ]
  },
  {
   "cell_type": "code",
   "execution_count": 7,
   "id": "c0ef8cfb",
   "metadata": {},
   "outputs": [
    {
     "name": "stdout",
     "output_type": "stream",
     "text": [
      "array('i', [1, 2, 3, 4, 5, 6])\n",
      "116\n",
      "104\n",
      "NUMPY\n",
      "[ 2.  4.  6.  8. 10.]\n",
      "40\n"
     ]
    }
   ],
   "source": [
    "import array\n",
    "\n",
    "# Create an array of integers\n",
    "int_array = array.array('i', [1, 2, 3, 4, 5])\n",
    "\n",
    "# Efficiently perform numerical operations\n",
    "int_array.append(6)\n",
    "print(int_array)  # array('i', [1, 2, 3, 4, 5, 6])\n",
    "\n",
    "# Memory usage comparison\n",
    "import sys\n",
    "print(sys.getsizeof(int_array))  # Typically smaller size\n",
    "print(sys.getsizeof([1, 2, 3, 4, 5, 6]))  # Typically larger size\n",
    "\n",
    "print(\"NUMPY\")\n",
    "import numpy as np\n",
    "\n",
    "# Create a numpy array of floats\n",
    "float_array = np.array([1.0, 2.0, 3.0, 4.0, 5.0])\n",
    "\n",
    "# Efficient numerical operations\n",
    "float_array = float_array * 2\n",
    "print(float_array)  # [ 2.  4.  6.  8. 10.]\n",
    "\n",
    "# Memory usage comparison\n",
    "print(float_array.nbytes)  # Typically smaller size than equivalent list\n",
    "\n"
   ]
  },
  {
   "cell_type": "markdown",
   "id": "46d41e63",
   "metadata": {},
   "source": [
    "Scenarios Where Arrays are Preferred:\n",
    "Large Datasets: Handling large datasets where memory efficiency is crucial.\n",
    "Numerical Computations: Performing mathematical operations that can benefit from the optimized performance of arrays.\n",
    "Homogeneous Data: When the data is of a single type, making it suitable for arrays.\n",
    "In summary, arrays are beneficial for storing numerical data when memory efficiency and performance are important, especially for large datasets and intensive numerical computations."
   ]
  },
  {
   "cell_type": "markdown",
   "id": "cb923d07",
   "metadata": {},
   "source": [
    "Q5. In Python, what's the primary difference between dictionaries and lists, and how does this difference \n",
    "\n",
    " impact their use cases in programming?"
   ]
  },
  {
   "cell_type": "markdown",
   "id": "b05e2936",
   "metadata": {},
   "source": [
    "In Python, the primary difference between dictionaries and lists lies in their structure and the way they handle data:\n",
    "\n",
    "Structure and Access:\n",
    "\n",
    "Lists: Ordered collections of elements indexed by integer positions starting from 0. Elements are accessed by their position (index).\n",
    "\n",
    "Dictionaries: Unordered collections of key-value pairs where each key is unique. Elements are accessed by their keys.\n",
    "    Use Cases:\n",
    "\n",
    "Lists: Ideal for ordered collections of items where the position matters or you need to perform operations that involve indexing, slicing, or iterating over a sequence of elements.\n",
    "\n",
    "Examples:\n",
    "Storing a list of numbers or strings.\n",
    "Managing a collection of items where order is significant, such as a list of tasks or a sequence of steps.\n",
    "Iterating through elements in a specific order.\n",
    "Dictionaries: Best suited for scenarios where you need a mapping between unique keys and values, and quick lookup, insertion, and deletion of items by key.\n",
    "\n",
    "Examples:\n",
    "Storing user information where each user has a unique identifier (e.g., user IDs).\n",
    "Implementing a phone book where names (keys) map to phone numbers (values).\n",
    "Configuration settings where each setting has a unique name (key).\n",
    "Impact on Use Cases:\n",
    "Performance:\n",
    "\n",
    "Lists: Accessing elements by index is O(1), but searching for an element is O(n). Inserting or deleting elements in the middle of a list can be O(n) due to the need to shift elements.\n",
    "Dictionaries: Access, insertion, and deletion operations are on average O(1) due to the underlying hash table implementation.\n",
    "Flexibility:\n",
    "\n",
    "Lists: Flexible for operations where maintaining order and accessing elements by position is important.\n",
    "Dictionaries: Flexible for operations requiring quick lookups, updates, and deletions by key, and where the order of elements is not a primary concern (though from Python 3.7 onwards, dictionaries maintain insertion order).\n",
    "Data Relationships:\n",
    "\n",
    "Lists: Suitable for simple sequences of items.\n",
    "Dictionaries: Suitable for more complex relationships where each element is uniquely identified by a key and where the relationship between key and value is significant.\n",
    "    \n",
    "\n"
   ]
  },
  {
   "cell_type": "code",
   "execution_count": 9,
   "id": "a711017c",
   "metadata": {},
   "outputs": [
    {
     "name": "stdout",
     "output_type": "stream",
     "text": [
      "task2\n",
      "Bob\n"
     ]
    },
    {
     "data": {
      "text/plain": [
       "'In summary, lists and dictionaries serve different purposes in Python based on their structure and access methods. Lists are ordered collections accessible by index, suitable for sequence management. Dictionaries are unordered collections of key-value pairs, ideal for quick lookups and managing unique identifiers'"
      ]
     },
     "execution_count": 9,
     "metadata": {},
     "output_type": "execute_result"
    }
   ],
   "source": [
    "tasks = ['task1', 'task2', 'task3']\n",
    "print(tasks[1])  # Outputs: 'task2'\n",
    "tasks.append('task4')  # Adds 'task4' to the end of the list\n",
    "\n",
    "user_info = {'user1': 'Alice', 'user2': 'Bob', 'user3': 'Charlie'}\n",
    "print(user_info['user2'])  # Outputs: 'Bob'\n",
    "user_info['user4'] = 'David'  # Adds a new key-value pair to the dictionary\n",
    "\"\"\"In summary, lists and dictionaries serve different purposes in Python based on their structure and access methods. Lists are ordered collections accessible by index, suitable for sequence management. Dictionaries are unordered collections of key-value pairs, ideal for quick lookups and managing unique identifiers\"\"\""
   ]
  },
  {
   "cell_type": "code",
   "execution_count": null,
   "id": "a11a93dc",
   "metadata": {},
   "outputs": [],
   "source": []
  }
 ],
 "metadata": {
  "kernelspec": {
   "display_name": "Python 3 (ipykernel)",
   "language": "python",
   "name": "python3"
  },
  "language_info": {
   "codemirror_mode": {
    "name": "ipython",
    "version": 3
   },
   "file_extension": ".py",
   "mimetype": "text/x-python",
   "name": "python",
   "nbconvert_exporter": "python",
   "pygments_lexer": "ipython3",
   "version": "3.10.9"
  }
 },
 "nbformat": 4,
 "nbformat_minor": 5
}
